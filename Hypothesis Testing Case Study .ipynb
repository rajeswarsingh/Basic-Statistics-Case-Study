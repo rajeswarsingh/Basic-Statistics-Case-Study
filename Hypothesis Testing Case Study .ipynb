{
 "cells": [
  {
   "cell_type": "code",
   "execution_count": 1,
   "id": "d3a9b758",
   "metadata": {},
   "outputs": [],
   "source": [
    "import pandas as pd\n",
    "import numpy as np\n",
    "import matplotlib.pyplot as plt\n",
    "import seaborn as sns\n",
    "import scipy.stats as stats"
   ]
  },
  {
   "cell_type": "markdown",
   "id": "fffcd5ec",
   "metadata": {},
   "source": [
    "#                                          BUSINESS PROBLEM-1"
   ]
  },
  {
   "cell_type": "code",
   "execution_count": 2,
   "id": "ae803da0",
   "metadata": {},
   "outputs": [],
   "source": [
    "loan_data= pd.read_csv('LoansData.csv')"
   ]
  },
  {
   "cell_type": "code",
   "execution_count": 3,
   "id": "f660e8d4",
   "metadata": {},
   "outputs": [
    {
     "data": {
      "text/html": [
       "<div>\n",
       "<style scoped>\n",
       "    .dataframe tbody tr th:only-of-type {\n",
       "        vertical-align: middle;\n",
       "    }\n",
       "\n",
       "    .dataframe tbody tr th {\n",
       "        vertical-align: top;\n",
       "    }\n",
       "\n",
       "    .dataframe thead th {\n",
       "        text-align: right;\n",
       "    }\n",
       "</style>\n",
       "<table border=\"1\" class=\"dataframe\">\n",
       "  <thead>\n",
       "    <tr style=\"text-align: right;\">\n",
       "      <th></th>\n",
       "      <th>Amount.Requested</th>\n",
       "      <th>Amount.Funded.By.Investors</th>\n",
       "      <th>Interest.Rate</th>\n",
       "      <th>Loan.Length</th>\n",
       "      <th>Loan.Purpose</th>\n",
       "      <th>Debt.To.Income.Ratio</th>\n",
       "      <th>State</th>\n",
       "      <th>Home.Ownership</th>\n",
       "      <th>Monthly.Income</th>\n",
       "      <th>FICO.Range</th>\n",
       "      <th>Open.CREDIT.Lines</th>\n",
       "      <th>Revolving.CREDIT.Balance</th>\n",
       "      <th>Inquiries.in.the.Last.6.Months</th>\n",
       "      <th>Employment.Length</th>\n",
       "    </tr>\n",
       "  </thead>\n",
       "  <tbody>\n",
       "    <tr>\n",
       "      <th>0</th>\n",
       "      <td>20000.0</td>\n",
       "      <td>20000.00</td>\n",
       "      <td>8.90%</td>\n",
       "      <td>36 months</td>\n",
       "      <td>debt_consolidation</td>\n",
       "      <td>14.90%</td>\n",
       "      <td>SC</td>\n",
       "      <td>MORTGAGE</td>\n",
       "      <td>6541.67</td>\n",
       "      <td>735-739</td>\n",
       "      <td>14.0</td>\n",
       "      <td>14272.0</td>\n",
       "      <td>2.0</td>\n",
       "      <td>&lt; 1 year</td>\n",
       "    </tr>\n",
       "    <tr>\n",
       "      <th>1</th>\n",
       "      <td>19200.0</td>\n",
       "      <td>19200.00</td>\n",
       "      <td>12.12%</td>\n",
       "      <td>36 months</td>\n",
       "      <td>debt_consolidation</td>\n",
       "      <td>28.36%</td>\n",
       "      <td>TX</td>\n",
       "      <td>MORTGAGE</td>\n",
       "      <td>4583.33</td>\n",
       "      <td>715-719</td>\n",
       "      <td>12.0</td>\n",
       "      <td>11140.0</td>\n",
       "      <td>1.0</td>\n",
       "      <td>2 years</td>\n",
       "    </tr>\n",
       "    <tr>\n",
       "      <th>2</th>\n",
       "      <td>35000.0</td>\n",
       "      <td>35000.00</td>\n",
       "      <td>21.98%</td>\n",
       "      <td>60 months</td>\n",
       "      <td>debt_consolidation</td>\n",
       "      <td>23.81%</td>\n",
       "      <td>CA</td>\n",
       "      <td>MORTGAGE</td>\n",
       "      <td>11500.00</td>\n",
       "      <td>690-694</td>\n",
       "      <td>14.0</td>\n",
       "      <td>21977.0</td>\n",
       "      <td>1.0</td>\n",
       "      <td>2 years</td>\n",
       "    </tr>\n",
       "    <tr>\n",
       "      <th>3</th>\n",
       "      <td>10000.0</td>\n",
       "      <td>9975.00</td>\n",
       "      <td>9.99%</td>\n",
       "      <td>36 months</td>\n",
       "      <td>debt_consolidation</td>\n",
       "      <td>14.30%</td>\n",
       "      <td>KS</td>\n",
       "      <td>MORTGAGE</td>\n",
       "      <td>3833.33</td>\n",
       "      <td>695-699</td>\n",
       "      <td>10.0</td>\n",
       "      <td>9346.0</td>\n",
       "      <td>0.0</td>\n",
       "      <td>5 years</td>\n",
       "    </tr>\n",
       "    <tr>\n",
       "      <th>4</th>\n",
       "      <td>12000.0</td>\n",
       "      <td>12000.00</td>\n",
       "      <td>11.71%</td>\n",
       "      <td>36 months</td>\n",
       "      <td>credit_card</td>\n",
       "      <td>18.78%</td>\n",
       "      <td>NJ</td>\n",
       "      <td>RENT</td>\n",
       "      <td>3195.00</td>\n",
       "      <td>695-699</td>\n",
       "      <td>11.0</td>\n",
       "      <td>14469.0</td>\n",
       "      <td>0.0</td>\n",
       "      <td>9 years</td>\n",
       "    </tr>\n",
       "    <tr>\n",
       "      <th>...</th>\n",
       "      <td>...</td>\n",
       "      <td>...</td>\n",
       "      <td>...</td>\n",
       "      <td>...</td>\n",
       "      <td>...</td>\n",
       "      <td>...</td>\n",
       "      <td>...</td>\n",
       "      <td>...</td>\n",
       "      <td>...</td>\n",
       "      <td>...</td>\n",
       "      <td>...</td>\n",
       "      <td>...</td>\n",
       "      <td>...</td>\n",
       "      <td>...</td>\n",
       "    </tr>\n",
       "    <tr>\n",
       "      <th>2495</th>\n",
       "      <td>30000.0</td>\n",
       "      <td>29950.00</td>\n",
       "      <td>16.77%</td>\n",
       "      <td>60 months</td>\n",
       "      <td>debt_consolidation</td>\n",
       "      <td>19.23%</td>\n",
       "      <td>NY</td>\n",
       "      <td>MORTGAGE</td>\n",
       "      <td>9250.00</td>\n",
       "      <td>705-709</td>\n",
       "      <td>15.0</td>\n",
       "      <td>45880.0</td>\n",
       "      <td>1.0</td>\n",
       "      <td>8 years</td>\n",
       "    </tr>\n",
       "    <tr>\n",
       "      <th>2496</th>\n",
       "      <td>16000.0</td>\n",
       "      <td>16000.00</td>\n",
       "      <td>14.09%</td>\n",
       "      <td>60 months</td>\n",
       "      <td>home_improvement</td>\n",
       "      <td>21.54%</td>\n",
       "      <td>MD</td>\n",
       "      <td>OWN</td>\n",
       "      <td>8903.25</td>\n",
       "      <td>740-744</td>\n",
       "      <td>18.0</td>\n",
       "      <td>18898.0</td>\n",
       "      <td>1.0</td>\n",
       "      <td>10+ years</td>\n",
       "    </tr>\n",
       "    <tr>\n",
       "      <th>2497</th>\n",
       "      <td>10000.0</td>\n",
       "      <td>10000.00</td>\n",
       "      <td>13.99%</td>\n",
       "      <td>36 months</td>\n",
       "      <td>debt_consolidation</td>\n",
       "      <td>4.89%</td>\n",
       "      <td>PA</td>\n",
       "      <td>MORTGAGE</td>\n",
       "      <td>2166.67</td>\n",
       "      <td>680-684</td>\n",
       "      <td>4.0</td>\n",
       "      <td>4544.0</td>\n",
       "      <td>0.0</td>\n",
       "      <td>10+ years</td>\n",
       "    </tr>\n",
       "    <tr>\n",
       "      <th>2498</th>\n",
       "      <td>6000.0</td>\n",
       "      <td>6000.00</td>\n",
       "      <td>12.42%</td>\n",
       "      <td>36 months</td>\n",
       "      <td>major_purchase</td>\n",
       "      <td>16.66%</td>\n",
       "      <td>NJ</td>\n",
       "      <td>RENT</td>\n",
       "      <td>3500.00</td>\n",
       "      <td>675-679</td>\n",
       "      <td>8.0</td>\n",
       "      <td>7753.0</td>\n",
       "      <td>0.0</td>\n",
       "      <td>5 years</td>\n",
       "    </tr>\n",
       "    <tr>\n",
       "      <th>2499</th>\n",
       "      <td>9000.0</td>\n",
       "      <td>5242.75</td>\n",
       "      <td>13.79%</td>\n",
       "      <td>36 months</td>\n",
       "      <td>debt_consolidation</td>\n",
       "      <td>6.76%</td>\n",
       "      <td>NY</td>\n",
       "      <td>RENT</td>\n",
       "      <td>3875.00</td>\n",
       "      <td>670-674</td>\n",
       "      <td>7.0</td>\n",
       "      <td>7589.0</td>\n",
       "      <td>0.0</td>\n",
       "      <td>10+ years</td>\n",
       "    </tr>\n",
       "  </tbody>\n",
       "</table>\n",
       "<p>2500 rows × 14 columns</p>\n",
       "</div>"
      ],
      "text/plain": [
       "      Amount.Requested  Amount.Funded.By.Investors Interest.Rate Loan.Length  \\\n",
       "0              20000.0                    20000.00         8.90%   36 months   \n",
       "1              19200.0                    19200.00        12.12%   36 months   \n",
       "2              35000.0                    35000.00        21.98%   60 months   \n",
       "3              10000.0                     9975.00         9.99%   36 months   \n",
       "4              12000.0                    12000.00        11.71%   36 months   \n",
       "...                ...                         ...           ...         ...   \n",
       "2495           30000.0                    29950.00        16.77%   60 months   \n",
       "2496           16000.0                    16000.00        14.09%   60 months   \n",
       "2497           10000.0                    10000.00        13.99%   36 months   \n",
       "2498            6000.0                     6000.00        12.42%   36 months   \n",
       "2499            9000.0                     5242.75        13.79%   36 months   \n",
       "\n",
       "            Loan.Purpose Debt.To.Income.Ratio State Home.Ownership  \\\n",
       "0     debt_consolidation               14.90%    SC       MORTGAGE   \n",
       "1     debt_consolidation               28.36%    TX       MORTGAGE   \n",
       "2     debt_consolidation               23.81%    CA       MORTGAGE   \n",
       "3     debt_consolidation               14.30%    KS       MORTGAGE   \n",
       "4            credit_card               18.78%    NJ           RENT   \n",
       "...                  ...                  ...   ...            ...   \n",
       "2495  debt_consolidation               19.23%    NY       MORTGAGE   \n",
       "2496    home_improvement               21.54%    MD            OWN   \n",
       "2497  debt_consolidation                4.89%    PA       MORTGAGE   \n",
       "2498      major_purchase               16.66%    NJ           RENT   \n",
       "2499  debt_consolidation                6.76%    NY           RENT   \n",
       "\n",
       "      Monthly.Income FICO.Range  Open.CREDIT.Lines  Revolving.CREDIT.Balance  \\\n",
       "0            6541.67    735-739               14.0                   14272.0   \n",
       "1            4583.33    715-719               12.0                   11140.0   \n",
       "2           11500.00    690-694               14.0                   21977.0   \n",
       "3            3833.33    695-699               10.0                    9346.0   \n",
       "4            3195.00    695-699               11.0                   14469.0   \n",
       "...              ...        ...                ...                       ...   \n",
       "2495         9250.00    705-709               15.0                   45880.0   \n",
       "2496         8903.25    740-744               18.0                   18898.0   \n",
       "2497         2166.67    680-684                4.0                    4544.0   \n",
       "2498         3500.00    675-679                8.0                    7753.0   \n",
       "2499         3875.00    670-674                7.0                    7589.0   \n",
       "\n",
       "      Inquiries.in.the.Last.6.Months Employment.Length  \n",
       "0                                2.0          < 1 year  \n",
       "1                                1.0           2 years  \n",
       "2                                1.0           2 years  \n",
       "3                                0.0           5 years  \n",
       "4                                0.0           9 years  \n",
       "...                              ...               ...  \n",
       "2495                             1.0           8 years  \n",
       "2496                             1.0         10+ years  \n",
       "2497                             0.0         10+ years  \n",
       "2498                             0.0           5 years  \n",
       "2499                             0.0         10+ years  \n",
       "\n",
       "[2500 rows x 14 columns]"
      ]
     },
     "execution_count": 3,
     "metadata": {},
     "output_type": "execute_result"
    }
   ],
   "source": [
    "loan_data"
   ]
  },
  {
   "cell_type": "code",
   "execution_count": 4,
   "id": "b9093bc4",
   "metadata": {},
   "outputs": [
    {
     "name": "stdout",
     "output_type": "stream",
     "text": [
      "<class 'pandas.core.frame.DataFrame'>\n",
      "RangeIndex: 2500 entries, 0 to 2499\n",
      "Data columns (total 14 columns):\n",
      " #   Column                          Non-Null Count  Dtype  \n",
      "---  ------                          --------------  -----  \n",
      " 0   Amount.Requested                2499 non-null   float64\n",
      " 1   Amount.Funded.By.Investors      2499 non-null   float64\n",
      " 2   Interest.Rate                   2498 non-null   object \n",
      " 3   Loan.Length                     2500 non-null   object \n",
      " 4   Loan.Purpose                    2500 non-null   object \n",
      " 5   Debt.To.Income.Ratio            2499 non-null   object \n",
      " 6   State                           2500 non-null   object \n",
      " 7   Home.Ownership                  2499 non-null   object \n",
      " 8   Monthly.Income                  2499 non-null   float64\n",
      " 9   FICO.Range                      2498 non-null   object \n",
      " 10  Open.CREDIT.Lines               2497 non-null   float64\n",
      " 11  Revolving.CREDIT.Balance        2497 non-null   float64\n",
      " 12  Inquiries.in.the.Last.6.Months  2497 non-null   float64\n",
      " 13  Employment.Length               2423 non-null   object \n",
      "dtypes: float64(6), object(8)\n",
      "memory usage: 273.6+ KB\n"
     ]
    }
   ],
   "source": [
    "loan_data.info()"
   ]
  },
  {
   "cell_type": "code",
   "execution_count": 5,
   "id": "fcb9d26d",
   "metadata": {},
   "outputs": [
    {
     "data": {
      "text/plain": [
       "Amount.Requested                   1\n",
       "Amount.Funded.By.Investors         1\n",
       "Interest.Rate                      2\n",
       "Loan.Length                        0\n",
       "Loan.Purpose                       0\n",
       "Debt.To.Income.Ratio               1\n",
       "State                              0\n",
       "Home.Ownership                     1\n",
       "Monthly.Income                     1\n",
       "FICO.Range                         2\n",
       "Open.CREDIT.Lines                  3\n",
       "Revolving.CREDIT.Balance           3\n",
       "Inquiries.in.the.Last.6.Months     3\n",
       "Employment.Length                 77\n",
       "dtype: int64"
      ]
     },
     "execution_count": 5,
     "metadata": {},
     "output_type": "execute_result"
    }
   ],
   "source": [
    "loan_data.isna().sum()"
   ]
  },
  {
   "cell_type": "markdown",
   "id": "25a7b2ca",
   "metadata": {},
   "source": [
    "## a. Intrest rate is varied for different loan amounts (Less intrest charged for high loan amounts)\n",
    "\n",
    "\n",
    "\n",
    "### Ho : Intrest rate does not varies for differnt loan amount.\n",
    "### Ha : Intrest rate does varies for differnt loan amount.\n",
    "\n",
    "### CI =95%\n",
    "### p-Value = 0.05"
   ]
  },
  {
   "cell_type": "code",
   "execution_count": 6,
   "id": "fbdf3778",
   "metadata": {},
   "outputs": [
    {
     "data": {
      "text/plain": [
       "0       20000.0\n",
       "1       19200.0\n",
       "2       35000.0\n",
       "3       10000.0\n",
       "4       12000.0\n",
       "         ...   \n",
       "2495    30000.0\n",
       "2496    16000.0\n",
       "2497    10000.0\n",
       "2498     6000.0\n",
       "2499     9000.0\n",
       "Name: Amount.Requested, Length: 2500, dtype: float64"
      ]
     },
     "execution_count": 6,
     "metadata": {},
     "output_type": "execute_result"
    }
   ],
   "source": [
    "loan_data[\"Amount.Requested\"]"
   ]
  },
  {
   "cell_type": "code",
   "execution_count": 7,
   "id": "fcea7541",
   "metadata": {},
   "outputs": [
    {
     "data": {
      "text/plain": [
       "0        8.90%\n",
       "1       12.12%\n",
       "2       21.98%\n",
       "3        9.99%\n",
       "4       11.71%\n",
       "         ...  \n",
       "2495    16.77%\n",
       "2496    14.09%\n",
       "2497    13.99%\n",
       "2498    12.42%\n",
       "2499    13.79%\n",
       "Name: Interest.Rate, Length: 2500, dtype: object"
      ]
     },
     "execution_count": 7,
     "metadata": {},
     "output_type": "execute_result"
    }
   ],
   "source": [
    "loan_data['Interest.Rate']"
   ]
  },
  {
   "cell_type": "code",
   "execution_count": 8,
   "id": "fee26424",
   "metadata": {},
   "outputs": [],
   "source": [
    "# transform the Interest.Rate by removing % sign and datetype to float \n",
    "loan_data['Interest_Rate']=pd.to_numeric(loan_data['Interest.Rate'].str.replace('%',\"\"))"
   ]
  },
  {
   "cell_type": "code",
   "execution_count": 9,
   "id": "28f50bbc",
   "metadata": {},
   "outputs": [
    {
     "data": {
      "text/plain": [
       "0        8.90\n",
       "1       12.12\n",
       "2       21.98\n",
       "3        9.99\n",
       "4       11.71\n",
       "        ...  \n",
       "2495    16.77\n",
       "2496    14.09\n",
       "2497    13.99\n",
       "2498    12.42\n",
       "2499    13.79\n",
       "Name: Interest_Rate, Length: 2500, dtype: float64"
      ]
     },
     "execution_count": 9,
     "metadata": {},
     "output_type": "execute_result"
    }
   ],
   "source": [
    "loan_data['Interest_Rate']"
   ]
  },
  {
   "cell_type": "code",
   "execution_count": 10,
   "id": "30bd4cfb",
   "metadata": {},
   "outputs": [
    {
     "name": "stdout",
     "output_type": "stream",
     "text": [
      "0\n",
      "0\n"
     ]
    }
   ],
   "source": [
    "# null values treatment for Interest_Rate and Amount.Requested\n",
    "loan_data.fillna({'Interest_Rate':loan_data.Interest_Rate.mode()[0]}, inplace=True)\n",
    "\n",
    "loan_data.fillna({'Amount.Requested': loan_data[\"Amount.Requested\"].mean()}, inplace=True)\n",
    "\n",
    "print(loan_data.Interest_Rate.isna().sum())\n",
    "print(loan_data[\"Amount.Requested\"].isna().sum())\n"
   ]
  },
  {
   "cell_type": "code",
   "execution_count": null,
   "id": "a0ed4603",
   "metadata": {},
   "outputs": [],
   "source": []
  },
  {
   "cell_type": "code",
   "execution_count": 11,
   "id": "20e2cb3f",
   "metadata": {},
   "outputs": [
    {
     "data": {
      "text/plain": [
       "(0.33240946119905634, 1.4646809963138709e-65)"
      ]
     },
     "execution_count": 11,
     "metadata": {},
     "output_type": "execute_result"
    }
   ],
   "source": [
    "# Perform the Test statitics. we will perform the correlation test as both the variables are numarical continous variable.\n",
    "stats.pearsonr(loan_data[\"Amount.Requested\"],loan_data.Interest_Rate)"
   ]
  },
  {
   "cell_type": "markdown",
   "id": "eb8b329f",
   "metadata": {},
   "source": [
    "### There is Positive releationship with Loan amount requested and interest rate offer by bank.\n",
    "### Thus, Intrest rate does varies for differnt loan amount.\n",
    "### P-Value is very less. thus, we reject the Null hypothesis."
   ]
  },
  {
   "cell_type": "code",
   "execution_count": null,
   "id": "1c12993a",
   "metadata": {},
   "outputs": [],
   "source": []
  },
  {
   "cell_type": "markdown",
   "id": "1a927c0d",
   "metadata": {},
   "source": [
    "## Next Question\n",
    "## b. Loan length is directly effecting intrest rate.\n",
    "\n",
    "### Ho : Loan Length is not directly effecting intrest rate\n",
    "### Ha : Loan Length is directly effecting intrest rate.\n",
    "\n",
    "\n",
    "### CI=95%\n",
    "### P-Value =0.05"
   ]
  },
  {
   "cell_type": "code",
   "execution_count": 12,
   "id": "8aa50a24",
   "metadata": {},
   "outputs": [
    {
     "data": {
      "text/plain": [
       "array(['36 months', '60 months'], dtype=object)"
      ]
     },
     "execution_count": 12,
     "metadata": {},
     "output_type": "execute_result"
    }
   ],
   "source": [
    "loan_data[\"Loan.Length\"].unique()"
   ]
  },
  {
   "cell_type": "code",
   "execution_count": 13,
   "id": "7d9f7909",
   "metadata": {},
   "outputs": [
    {
     "data": {
      "text/plain": [
       "0        8.90\n",
       "1       12.12\n",
       "2       21.98\n",
       "3        9.99\n",
       "4       11.71\n",
       "        ...  \n",
       "2495    16.77\n",
       "2496    14.09\n",
       "2497    13.99\n",
       "2498    12.42\n",
       "2499    13.79\n",
       "Name: Interest_Rate, Length: 2500, dtype: float64"
      ]
     },
     "execution_count": 13,
     "metadata": {},
     "output_type": "execute_result"
    }
   ],
   "source": [
    "loan_data.Interest_Rate"
   ]
  },
  {
   "cell_type": "code",
   "execution_count": 14,
   "id": "3280b2da",
   "metadata": {},
   "outputs": [],
   "source": [
    "a1=loan_data.loc[loan_data[\"Loan.Length\"]=='36 months','Interest_Rate' ]\n",
    "a2=loan_data.loc[loan_data[\"Loan.Length\"]=='60 months','Interest_Rate' ]"
   ]
  },
  {
   "cell_type": "code",
   "execution_count": 15,
   "id": "a1c044b2",
   "metadata": {},
   "outputs": [
    {
     "name": "stdout",
     "output_type": "stream",
     "text": [
      "Mean of Interest_Rate for 36 months  12.126173155737813  \n",
      "Mean of Interest_Rate for 60 months  16.40746350364961\n"
     ]
    }
   ],
   "source": [
    "print (\"Mean of Interest_Rate for 36 months \", a1.mean(), \" \\nMean of Interest_Rate for 60 months \",a2.mean())"
   ]
  },
  {
   "cell_type": "code",
   "execution_count": 16,
   "id": "0626f0a2",
   "metadata": {},
   "outputs": [
    {
     "data": {
      "text/plain": [
       "Ttest_indResult(statistic=-23.41636550810549, pvalue=8.529143234121489e-110)"
      ]
     },
     "execution_count": 16,
     "metadata": {},
     "output_type": "execute_result"
    }
   ],
   "source": [
    "# we will perform the T-Test for independed two variable. as these are two different variable.\n",
    "stats.ttest_ind (a1,a2)"
   ]
  },
  {
   "cell_type": "markdown",
   "id": "1b79da10",
   "metadata": {},
   "source": [
    "### P-Value is very less. thus, we reject the Null hypothesis.\n",
    "\n",
    "### Thus, Loan lenght directly effecting the intrest rate."
   ]
  },
  {
   "cell_type": "code",
   "execution_count": null,
   "id": "9fbf0711",
   "metadata": {},
   "outputs": [],
   "source": []
  },
  {
   "cell_type": "markdown",
   "id": "dac50f76",
   "metadata": {},
   "source": [
    "## Next Question\n",
    "## c. Interest rate varies for different purpose of loans\n",
    "\n",
    "\n",
    "### Ho : Interest rate doest not varies for different purpose of loans.\n",
    "### Ha : Interest rate does varies for differnt purpose of loans.\n",
    "\n",
    "### CI=95%\n",
    "### P-Value = 0.05\n"
   ]
  },
  {
   "cell_type": "code",
   "execution_count": 17,
   "id": "3c601048",
   "metadata": {},
   "outputs": [
    {
     "data": {
      "text/plain": [
       "array(['debt_consolidation', 'credit_card', 'other', 'moving', 'car',\n",
       "       'vacation', 'home_improvement', 'house', 'major_purchase',\n",
       "       'educational', 'medical', 'wedding', 'small_business',\n",
       "       'renewable_energy'], dtype=object)"
      ]
     },
     "execution_count": 17,
     "metadata": {},
     "output_type": "execute_result"
    }
   ],
   "source": [
    "loan_data[\"Loan.Purpose\"].unique()"
   ]
  },
  {
   "cell_type": "code",
   "execution_count": 18,
   "id": "f486c712",
   "metadata": {},
   "outputs": [
    {
     "data": {
      "text/plain": [
       "0        8.90\n",
       "1       12.12\n",
       "2       21.98\n",
       "3        9.99\n",
       "4       11.71\n",
       "        ...  \n",
       "2495    16.77\n",
       "2496    14.09\n",
       "2497    13.99\n",
       "2498    12.42\n",
       "2499    13.79\n",
       "Name: Interest_Rate, Length: 2500, dtype: float64"
      ]
     },
     "execution_count": 18,
     "metadata": {},
     "output_type": "execute_result"
    }
   ],
   "source": [
    "loan_data.Interest_Rate"
   ]
  },
  {
   "cell_type": "code",
   "execution_count": 19,
   "id": "7133d03f",
   "metadata": {},
   "outputs": [],
   "source": [
    "l1=loan_data.loc[loan_data[\"Loan.Purpose\"]== 'debt_consolidation' ,'Interest_Rate' ]\n",
    "l2=loan_data.loc[loan_data[\"Loan.Purpose\"]== 'credit_card' ,'Interest_Rate' ]\n",
    "l3=loan_data.loc[loan_data[\"Loan.Purpose\"]== 'moving' ,'Interest_Rate' ]\n",
    "l4=loan_data.loc[loan_data[\"Loan.Purpose\"]== 'car' ,'Interest_Rate' ]\n",
    "l5=loan_data.loc[loan_data[\"Loan.Purpose\"]== 'vacation' ,'Interest_Rate' ]\n",
    "l6=loan_data.loc[loan_data[\"Loan.Purpose\"]== 'home_improvement' ,'Interest_Rate' ]\n",
    "l7=loan_data.loc[loan_data[\"Loan.Purpose\"]== 'house' ,'Interest_Rate' ]\n",
    "l8=loan_data.loc[loan_data[\"Loan.Purpose\"]== 'major_purchase' ,'Interest_Rate' ]\n",
    "l9=loan_data.loc[loan_data[\"Loan.Purpose\"]== 'educational' ,'Interest_Rate' ]\n",
    "l10=loan_data.loc[loan_data[\"Loan.Purpose\"]=='medical' ,'Interest_Rate' ]\n",
    "l11=loan_data.loc[loan_data[\"Loan.Purpose\"]=='wedding' ,'Interest_Rate' ]\n",
    "l12=loan_data.loc[loan_data[\"Loan.Purpose\"]=='small_business' ,'Interest_Rate' ]\n",
    "l13=loan_data.loc[loan_data[\"Loan.Purpose\"]=='renewable_energy' ,'Interest_Rate' ]\n",
    "l15=loan_data.loc[loan_data[\"Loan.Purpose\"]=='other' ,'Interest_Rate' ]"
   ]
  },
  {
   "cell_type": "code",
   "execution_count": 20,
   "id": "0d7bcf9c",
   "metadata": {},
   "outputs": [
    {
     "name": "stdout",
     "output_type": "stream",
     "text": [
      "\n",
      " mean of debt_consolidation 13.586916602907444 \n",
      " mean of credit_card 13.048558558558533 \n",
      " mean of moving 13.621034482758622 \n",
      " mean of car 11.113000000000001 \n",
      " mean of vacation 11.966190476190476 \n",
      " mean of home_improvement 11.594276315789479 \n",
      " mean of house 13.448000000000002 \n",
      " mean of major_purchase 10.797821782178215 \n",
      " mean of educational 11.007333333333332 \n",
      " mean of medical 11.649666666666668 \n",
      " mean of wedding 12.04897435897436 \n",
      " mean of small_business 12.839195402298845 \n",
      " mean of renewable_energy 9.8775 \n",
      " mean of Others 13.159552238805967\n"
     ]
    }
   ],
   "source": [
    "# Perform the test statitics. we will perform the ANOVA as there are more the two categories for loan purpose.\n",
    "print (\n",
    "'\\n mean of debt_consolidation',l1.mean(),\n",
    "'\\n mean of credit_card',l2.mean(),\n",
    "'\\n mean of moving',l3.mean(),\n",
    "'\\n mean of car',l4.mean(),\n",
    "'\\n mean of vacation',l5.mean(),\n",
    "'\\n mean of home_improvement',l6.mean(),\n",
    "'\\n mean of house', l7.mean(),\n",
    "'\\n mean of major_purchase',l8.mean(),\n",
    "'\\n mean of educational', l9.mean(),\n",
    "'\\n mean of medical',l10.mean(),\n",
    "'\\n mean of wedding',l11.mean(),\n",
    "'\\n mean of small_business',l12.mean(),\n",
    "'\\n mean of renewable_energy', l13.mean(),\n",
    "'\\n mean of Others' ,l15.mean() )"
   ]
  },
  {
   "cell_type": "code",
   "execution_count": 21,
   "id": "d0361c9f",
   "metadata": {},
   "outputs": [
    {
     "data": {
      "text/plain": [
       "F_onewayResult(statistic=7.491453851847694, pvalue=1.1044428447897775e-14)"
      ]
     },
     "execution_count": 21,
     "metadata": {},
     "output_type": "execute_result"
    }
   ],
   "source": [
    "#  there are more the one variable. thus, we will perform the ANOVA/F-oneway Test\n",
    "stats.f_oneway(l1,\n",
    "l2,\n",
    "l3,\n",
    "l4,\n",
    "l5,\n",
    "l6,\n",
    "l7,\n",
    "l8,\n",
    "l9,\n",
    "l10,\n",
    "l11,\n",
    "l12,\n",
    "l13,\n",
    "l15)"
   ]
  },
  {
   "cell_type": "markdown",
   "id": "8da41741",
   "metadata": {},
   "source": [
    "### P-Value is low. Thus, we reject the null hypothesis.\n",
    "### Interest rate doest varies for diffrent purpose of loans."
   ]
  },
  {
   "cell_type": "code",
   "execution_count": null,
   "id": "25f6abf3",
   "metadata": {},
   "outputs": [],
   "source": []
  },
  {
   "cell_type": "markdown",
   "id": "e9a20db3",
   "metadata": {},
   "source": [
    "## Next Questions\n",
    "## There is relationship between FICO scores and Home Ownership. It means that, People\n",
    "## with owning home will have high FICO scores.\n",
    "\n",
    "#### Ho : there is NO releationship between FICO Score and Home Ownership.\n",
    "#### Ha : There is releationship between FICO Score and Home Ownership.\n",
    "\n",
    "#### CI=95%\n",
    "#### P- Value =0.05"
   ]
  },
  {
   "cell_type": "code",
   "execution_count": 54,
   "id": "28f0c328",
   "metadata": {},
   "outputs": [],
   "source": [
    "# Transform the FICO column to get the FICO values\n",
    "\n",
    "loan_data['FICO_min']=loan_data[\"FICO.Range\"].str.split(\"-\").str[0].dropna().astype('int64')\n",
    "loan_data['FICO_max']=loan_data[\"FICO.Range\"].str.split(\"-\").str[1].dropna().astype('int64')\n"
   ]
  },
  {
   "cell_type": "code",
   "execution_count": 72,
   "id": "31048448",
   "metadata": {},
   "outputs": [],
   "source": [
    "# calculate the FICO mean \n",
    "loan_data['FICO_Mean']=round(loan_data['FICO_min']+loan_data['FICO_max']/loan_data['FICO_min'].count(),2)"
   ]
  },
  {
   "cell_type": "code",
   "execution_count": 99,
   "id": "beda5d0e",
   "metadata": {},
   "outputs": [],
   "source": [
    "# fill the missing values we mean.\n",
    "loan_data.FICO_Mean.fillna(loan_data.FICO_Mean.mean(),inplace=True)"
   ]
  },
  {
   "cell_type": "code",
   "execution_count": 105,
   "id": "759d8700",
   "metadata": {},
   "outputs": [
    {
     "data": {
      "text/plain": [
       "array(['MORTGAGE', 'RENT', 'OWN', 'OTHER', 'NONE', nan], dtype=object)"
      ]
     },
     "execution_count": 105,
     "metadata": {},
     "output_type": "execute_result"
    }
   ],
   "source": [
    "loan_data['Home.Ownership'].unique()"
   ]
  },
  {
   "cell_type": "code",
   "execution_count": 119,
   "id": "fa35eea4",
   "metadata": {},
   "outputs": [],
   "source": [
    "\n",
    "MORTGAGE=loan_data.loc[loan_data[\"Home.Ownership\"]=='MORTGAGE','FICO_Mean']\n",
    "RENT=loan_data.loc[loan_data[\"Home.Ownership\"]=='RENT','FICO_Mean']\n",
    "OWN=loan_data.loc[loan_data[\"Home.Ownership\"]=='OWN','FICO_Mean']\n",
    "OTHER=loan_data.loc[loan_data[\"Home.Ownership\"]=='OTHER','FICO_Mean']"
   ]
  },
  {
   "cell_type": "code",
   "execution_count": 120,
   "id": "816df372",
   "metadata": {},
   "outputs": [
    {
     "name": "stdout",
     "output_type": "stream",
     "text": [
      "mean of MORTGAGE - 711.9788309950601 \n",
      "mean of RENT - 700.3440132210595 \n",
      "mean of OWN - 706.8348499999996 \n",
      "mean of OTHER - 672.2679999999999\n"
     ]
    }
   ],
   "source": [
    "print (\"mean of MORTGAGE - \"+str(MORTGAGE.mean()),\n",
    "      \"\\nmean of RENT - \"+str(RENT.mean()),\n",
    "      \"\\nmean of OWN - \"+str(OWN.mean()),\n",
    "      \"\\nmean of OTHER - \"+str(OTHER.mean()))"
   ]
  },
  {
   "cell_type": "code",
   "execution_count": 123,
   "id": "e0d74c08",
   "metadata": {},
   "outputs": [
    {
     "data": {
      "text/plain": [
       "F_onewayResult(statistic=23.30477025085848, pvalue=7.106057474289446e-15)"
      ]
     },
     "execution_count": 123,
     "metadata": {},
     "output_type": "execute_result"
    }
   ],
   "source": [
    "# there are more the one variable. Thus, we will perform the ANOVA/F_oneway test\n",
    "f_stats_home_owner=stats.f_oneway(MORTGAGE,RENT,OWN,OTHER)\n",
    "f_stats_home_owner"
   ]
  },
  {
   "cell_type": "code",
   "execution_count": 124,
   "id": "7fe6e561",
   "metadata": {},
   "outputs": [
    {
     "name": "stdout",
     "output_type": "stream",
     "text": [
      "we reject the Null Hypothesis\n"
     ]
    }
   ],
   "source": [
    "\n",
    "p_value=f_stats_home_owner.pvalue\n",
    "if(p_value <0.05):\n",
    "    print(\"we reject the Null Hypothesis\")\n",
    "else:\n",
    "        print(\"We fail to reject null hypothesis\")\n"
   ]
  },
  {
   "cell_type": "markdown",
   "id": "dca64476",
   "metadata": {},
   "source": [
    "\n",
    "### In output, the p-value is low. So we will reject null Hypothesis and conclude that FICO scores are not impacted by home ownership. there are others factors as well which contribute to FICO score."
   ]
  },
  {
   "cell_type": "code",
   "execution_count": null,
   "id": "3049e98a",
   "metadata": {},
   "outputs": [],
   "source": []
  },
  {
   "cell_type": "markdown",
   "id": "2f2c4afa",
   "metadata": {},
   "source": [
    "# BUSINESS PROBLEM - 2    "
   ]
  },
  {
   "cell_type": "markdown",
   "id": "57ca6788",
   "metadata": {},
   "source": [
    "## Question - We would like to assess if there is any difference in the average\n",
    "## price quotes provided by Mary and Barry.\n",
    "\n",
    "### Ho : there is NO difference in the average price quotes provided by Mary and Barry.\n",
    "### Ha : there is difference in the average price quotes provided by Mary and Barry.\n",
    "\n",
    "### CI=95%\n",
    "### P-Value = 0.05"
   ]
  },
  {
   "cell_type": "code",
   "execution_count": 100,
   "id": "9aa3ae58",
   "metadata": {},
   "outputs": [],
   "source": [
    "price_quote=pd.read_csv(\"Price_Quotes.csv\")"
   ]
  },
  {
   "cell_type": "code",
   "execution_count": 101,
   "id": "25c4726c",
   "metadata": {},
   "outputs": [
    {
     "data": {
      "text/html": [
       "<div>\n",
       "<style scoped>\n",
       "    .dataframe tbody tr th:only-of-type {\n",
       "        vertical-align: middle;\n",
       "    }\n",
       "\n",
       "    .dataframe tbody tr th {\n",
       "        vertical-align: top;\n",
       "    }\n",
       "\n",
       "    .dataframe thead th {\n",
       "        text-align: right;\n",
       "    }\n",
       "</style>\n",
       "<table border=\"1\" class=\"dataframe\">\n",
       "  <thead>\n",
       "    <tr style=\"text-align: right;\">\n",
       "      <th></th>\n",
       "      <th>Order_Number</th>\n",
       "      <th>Barry_Price</th>\n",
       "      <th>Mary_Price</th>\n",
       "    </tr>\n",
       "  </thead>\n",
       "  <tbody>\n",
       "    <tr>\n",
       "      <th>0</th>\n",
       "      <td>1</td>\n",
       "      <td>126</td>\n",
       "      <td>114</td>\n",
       "    </tr>\n",
       "    <tr>\n",
       "      <th>1</th>\n",
       "      <td>2</td>\n",
       "      <td>110</td>\n",
       "      <td>118</td>\n",
       "    </tr>\n",
       "    <tr>\n",
       "      <th>2</th>\n",
       "      <td>3</td>\n",
       "      <td>138</td>\n",
       "      <td>114</td>\n",
       "    </tr>\n",
       "    <tr>\n",
       "      <th>3</th>\n",
       "      <td>4</td>\n",
       "      <td>142</td>\n",
       "      <td>111</td>\n",
       "    </tr>\n",
       "    <tr>\n",
       "      <th>4</th>\n",
       "      <td>5</td>\n",
       "      <td>146</td>\n",
       "      <td>129</td>\n",
       "    </tr>\n",
       "    <tr>\n",
       "      <th>5</th>\n",
       "      <td>6</td>\n",
       "      <td>136</td>\n",
       "      <td>119</td>\n",
       "    </tr>\n",
       "    <tr>\n",
       "      <th>6</th>\n",
       "      <td>7</td>\n",
       "      <td>94</td>\n",
       "      <td>97</td>\n",
       "    </tr>\n",
       "    <tr>\n",
       "      <th>7</th>\n",
       "      <td>8</td>\n",
       "      <td>103</td>\n",
       "      <td>104</td>\n",
       "    </tr>\n",
       "    <tr>\n",
       "      <th>8</th>\n",
       "      <td>9</td>\n",
       "      <td>140</td>\n",
       "      <td>127</td>\n",
       "    </tr>\n",
       "    <tr>\n",
       "      <th>9</th>\n",
       "      <td>10</td>\n",
       "      <td>152</td>\n",
       "      <td>133</td>\n",
       "    </tr>\n",
       "    <tr>\n",
       "      <th>10</th>\n",
       "      <td>11</td>\n",
       "      <td>108</td>\n",
       "      <td>103</td>\n",
       "    </tr>\n",
       "    <tr>\n",
       "      <th>11</th>\n",
       "      <td>12</td>\n",
       "      <td>97</td>\n",
       "      <td>108</td>\n",
       "    </tr>\n",
       "  </tbody>\n",
       "</table>\n",
       "</div>"
      ],
      "text/plain": [
       "    Order_Number  Barry_Price  Mary_Price\n",
       "0              1          126         114\n",
       "1              2          110         118\n",
       "2              3          138         114\n",
       "3              4          142         111\n",
       "4              5          146         129\n",
       "5              6          136         119\n",
       "6              7           94          97\n",
       "7              8          103         104\n",
       "8              9          140         127\n",
       "9             10          152         133\n",
       "10            11          108         103\n",
       "11            12           97         108"
      ]
     },
     "execution_count": 101,
     "metadata": {},
     "output_type": "execute_result"
    }
   ],
   "source": [
    "price_quote"
   ]
  },
  {
   "cell_type": "code",
   "execution_count": 102,
   "id": "26fba7f6",
   "metadata": {},
   "outputs": [
    {
     "name": "stdout",
     "output_type": "stream",
     "text": [
      "<class 'pandas.core.frame.DataFrame'>\n",
      "RangeIndex: 12 entries, 0 to 11\n",
      "Data columns (total 3 columns):\n",
      " #   Column        Non-Null Count  Dtype\n",
      "---  ------        --------------  -----\n",
      " 0   Order_Number  12 non-null     int64\n",
      " 1   Barry_Price   12 non-null     int64\n",
      " 2   Mary_Price    12 non-null     int64\n",
      "dtypes: int64(3)\n",
      "memory usage: 416.0 bytes\n"
     ]
    }
   ],
   "source": [
    "price_quote.info()"
   ]
  },
  {
   "cell_type": "code",
   "execution_count": 104,
   "id": "0d0cc144",
   "metadata": {},
   "outputs": [
    {
     "data": {
      "text/plain": [
       "count     12.000000\n",
       "mean     124.333333\n",
       "std       20.698412\n",
       "min       94.000000\n",
       "25%      106.750000\n",
       "50%      131.000000\n",
       "75%      140.500000\n",
       "max      152.000000\n",
       "Name: Barry_Price, dtype: float64"
      ]
     },
     "execution_count": 104,
     "metadata": {},
     "output_type": "execute_result"
    }
   ],
   "source": [
    "price_quote[\"Barry_Price\"].describe()"
   ]
  },
  {
   "cell_type": "code",
   "execution_count": 106,
   "id": "95bf6bff",
   "metadata": {},
   "outputs": [
    {
     "data": {
      "text/plain": [
       "count     12.000000\n",
       "mean     114.750000\n",
       "std       11.054616\n",
       "min       97.000000\n",
       "25%      107.000000\n",
       "50%      114.000000\n",
       "75%      121.000000\n",
       "max      133.000000\n",
       "Name: Mary_Price, dtype: float64"
      ]
     },
     "execution_count": 106,
     "metadata": {},
     "output_type": "execute_result"
    }
   ],
   "source": [
    "price_quote[\"Mary_Price\"].describe()"
   ]
  },
  {
   "cell_type": "code",
   "execution_count": null,
   "id": "f3474c34",
   "metadata": {},
   "outputs": [],
   "source": [
    "# we will perform the paired T- Test."
   ]
  },
  {
   "cell_type": "code",
   "execution_count": 114,
   "id": "01ae9081",
   "metadata": {},
   "outputs": [
    {
     "data": {
      "text/plain": [
       "Ttest_relResult(statistic=2.521376510892349, pvalue=0.02840588045242053)"
      ]
     },
     "execution_count": 114,
     "metadata": {},
     "output_type": "execute_result"
    }
   ],
   "source": [
    "pval=stats.ttest_rel(price_quote.Barry_Price,price_quote.Mary_Price)\n",
    "pval"
   ]
  },
  {
   "cell_type": "code",
   "execution_count": 113,
   "id": "41c82903",
   "metadata": {},
   "outputs": [
    {
     "name": "stdout",
     "output_type": "stream",
     "text": [
      "We reject null hypothesis\n"
     ]
    }
   ],
   "source": [
    "p=pval.pvalue\n",
    "if(p<0.05):\n",
    "    print('We reject null hypothesis')\n",
    "else:\n",
    "    print('We fail to reject null hypothesis')"
   ]
  },
  {
   "cell_type": "markdown",
   "id": "566dff18",
   "metadata": {},
   "source": [
    "### P-Value is less than the 0.05. Thus, we reject the null hypothesis and Accept the Ha.\n",
    "## There is difference in the average price quotes provided by Mary and Barry.\n"
   ]
  },
  {
   "cell_type": "code",
   "execution_count": null,
   "id": "c2466c87",
   "metadata": {},
   "outputs": [],
   "source": []
  },
  {
   "cell_type": "markdown",
   "id": "26b123df",
   "metadata": {},
   "source": [
    "# BUSINESS PROBLEM-3: \n",
    "### BUSINESS PROBLEM: Determine what effect, if any, the reengineering effort had on the incidence behavioral problems and staff turnover. i.e To determine if the reengineering effort changed the critical incidence rate. Is there evidence that the critical incidence rate improved?"
   ]
  },
  {
   "cell_type": "markdown",
   "id": "4ae798ea",
   "metadata": {},
   "source": [
    "### Ho : There is No Effect of  reengineering effort on the incidence behavioral problems and staff turnover.\n",
    "### Ha : There is Effect of  reengineering effort on the incidence behavioral problems and staff turnover.\n",
    "\n",
    "### CI =95%\n",
    "### P-Value : 0.05"
   ]
  },
  {
   "cell_type": "code",
   "execution_count": 116,
   "id": "ebcd7c3a",
   "metadata": {},
   "outputs": [],
   "source": [
    "TF=pd.read_csv('Treatment_Facility.csv')"
   ]
  },
  {
   "cell_type": "code",
   "execution_count": 117,
   "id": "aaf3ebd8",
   "metadata": {},
   "outputs": [
    {
     "data": {
      "text/html": [
       "<div>\n",
       "<style scoped>\n",
       "    .dataframe tbody tr th:only-of-type {\n",
       "        vertical-align: middle;\n",
       "    }\n",
       "\n",
       "    .dataframe tbody tr th {\n",
       "        vertical-align: top;\n",
       "    }\n",
       "\n",
       "    .dataframe thead th {\n",
       "        text-align: right;\n",
       "    }\n",
       "</style>\n",
       "<table border=\"1\" class=\"dataframe\">\n",
       "  <thead>\n",
       "    <tr style=\"text-align: right;\">\n",
       "      <th></th>\n",
       "      <th>Month</th>\n",
       "      <th>Reengineer</th>\n",
       "      <th>Employee_Turnover</th>\n",
       "      <th>VAR4</th>\n",
       "      <th>VAR5</th>\n",
       "    </tr>\n",
       "  </thead>\n",
       "  <tbody>\n",
       "    <tr>\n",
       "      <th>0</th>\n",
       "      <td>1</td>\n",
       "      <td>Prior</td>\n",
       "      <td>0.0000</td>\n",
       "      <td>24.390244</td>\n",
       "      <td>42.682927</td>\n",
       "    </tr>\n",
       "    <tr>\n",
       "      <th>1</th>\n",
       "      <td>2</td>\n",
       "      <td>Prior</td>\n",
       "      <td>6.0606</td>\n",
       "      <td>19.354839</td>\n",
       "      <td>25.806452</td>\n",
       "    </tr>\n",
       "    <tr>\n",
       "      <th>2</th>\n",
       "      <td>3</td>\n",
       "      <td>Prior</td>\n",
       "      <td>12.1212</td>\n",
       "      <td>35.087719</td>\n",
       "      <td>146.198830</td>\n",
       "    </tr>\n",
       "    <tr>\n",
       "      <th>3</th>\n",
       "      <td>4</td>\n",
       "      <td>Prior</td>\n",
       "      <td>3.3333</td>\n",
       "      <td>18.404908</td>\n",
       "      <td>110.429448</td>\n",
       "    </tr>\n",
       "    <tr>\n",
       "      <th>4</th>\n",
       "      <td>5</td>\n",
       "      <td>Prior</td>\n",
       "      <td>12.9032</td>\n",
       "      <td>17.964072</td>\n",
       "      <td>23.952096</td>\n",
       "    </tr>\n",
       "    <tr>\n",
       "      <th>5</th>\n",
       "      <td>6</td>\n",
       "      <td>Prior</td>\n",
       "      <td>9.6774</td>\n",
       "      <td>41.176471</td>\n",
       "      <td>47.058824</td>\n",
       "    </tr>\n",
       "    <tr>\n",
       "      <th>6</th>\n",
       "      <td>7</td>\n",
       "      <td>Prior</td>\n",
       "      <td>11.7647</td>\n",
       "      <td>13.422819</td>\n",
       "      <td>0.000000</td>\n",
       "    </tr>\n",
       "    <tr>\n",
       "      <th>7</th>\n",
       "      <td>8</td>\n",
       "      <td>Prior</td>\n",
       "      <td>11.4286</td>\n",
       "      <td>31.250000</td>\n",
       "      <td>25.000000</td>\n",
       "    </tr>\n",
       "    <tr>\n",
       "      <th>8</th>\n",
       "      <td>9</td>\n",
       "      <td>Prior</td>\n",
       "      <td>23.0769</td>\n",
       "      <td>17.241379</td>\n",
       "      <td>132.183908</td>\n",
       "    </tr>\n",
       "    <tr>\n",
       "      <th>9</th>\n",
       "      <td>10</td>\n",
       "      <td>Prior</td>\n",
       "      <td>15.0000</td>\n",
       "      <td>16.574586</td>\n",
       "      <td>16.574586</td>\n",
       "    </tr>\n",
       "    <tr>\n",
       "      <th>10</th>\n",
       "      <td>11</td>\n",
       "      <td>Prior</td>\n",
       "      <td>10.0000</td>\n",
       "      <td>5.917160</td>\n",
       "      <td>88.757396</td>\n",
       "    </tr>\n",
       "    <tr>\n",
       "      <th>11</th>\n",
       "      <td>12</td>\n",
       "      <td>Prior</td>\n",
       "      <td>26.0870</td>\n",
       "      <td>21.164021</td>\n",
       "      <td>31.746032</td>\n",
       "    </tr>\n",
       "    <tr>\n",
       "      <th>12</th>\n",
       "      <td>13</td>\n",
       "      <td>Prior</td>\n",
       "      <td>11.1111</td>\n",
       "      <td>5.076142</td>\n",
       "      <td>10.152284</td>\n",
       "    </tr>\n",
       "    <tr>\n",
       "      <th>13</th>\n",
       "      <td>14</td>\n",
       "      <td>Post</td>\n",
       "      <td>26.6667</td>\n",
       "      <td>9.708738</td>\n",
       "      <td>29.126214</td>\n",
       "    </tr>\n",
       "    <tr>\n",
       "      <th>14</th>\n",
       "      <td>15</td>\n",
       "      <td>Post</td>\n",
       "      <td>17.9487</td>\n",
       "      <td>4.201681</td>\n",
       "      <td>21.008403</td>\n",
       "    </tr>\n",
       "    <tr>\n",
       "      <th>15</th>\n",
       "      <td>16</td>\n",
       "      <td>Post</td>\n",
       "      <td>12.8205</td>\n",
       "      <td>13.043478</td>\n",
       "      <td>34.782609</td>\n",
       "    </tr>\n",
       "    <tr>\n",
       "      <th>16</th>\n",
       "      <td>17</td>\n",
       "      <td>Post</td>\n",
       "      <td>15.7895</td>\n",
       "      <td>9.950249</td>\n",
       "      <td>19.900498</td>\n",
       "    </tr>\n",
       "    <tr>\n",
       "      <th>17</th>\n",
       "      <td>18</td>\n",
       "      <td>Post</td>\n",
       "      <td>0.0000</td>\n",
       "      <td>9.950249</td>\n",
       "      <td>9.950249</td>\n",
       "    </tr>\n",
       "    <tr>\n",
       "      <th>18</th>\n",
       "      <td>19</td>\n",
       "      <td>Post</td>\n",
       "      <td>30.7692</td>\n",
       "      <td>8.510638</td>\n",
       "      <td>25.531915</td>\n",
       "    </tr>\n",
       "    <tr>\n",
       "      <th>19</th>\n",
       "      <td>20</td>\n",
       "      <td>Post</td>\n",
       "      <td>26.8293</td>\n",
       "      <td>9.259259</td>\n",
       "      <td>23.148148</td>\n",
       "    </tr>\n",
       "  </tbody>\n",
       "</table>\n",
       "</div>"
      ],
      "text/plain": [
       "    Month Reengineer  Employee_Turnover       VAR4        VAR5\n",
       "0       1      Prior             0.0000  24.390244   42.682927\n",
       "1       2      Prior             6.0606  19.354839   25.806452\n",
       "2       3      Prior            12.1212  35.087719  146.198830\n",
       "3       4      Prior             3.3333  18.404908  110.429448\n",
       "4       5      Prior            12.9032  17.964072   23.952096\n",
       "5       6      Prior             9.6774  41.176471   47.058824\n",
       "6       7      Prior            11.7647  13.422819    0.000000\n",
       "7       8      Prior            11.4286  31.250000   25.000000\n",
       "8       9      Prior            23.0769  17.241379  132.183908\n",
       "9      10      Prior            15.0000  16.574586   16.574586\n",
       "10     11      Prior            10.0000   5.917160   88.757396\n",
       "11     12      Prior            26.0870  21.164021   31.746032\n",
       "12     13      Prior            11.1111   5.076142   10.152284\n",
       "13     14       Post            26.6667   9.708738   29.126214\n",
       "14     15       Post            17.9487   4.201681   21.008403\n",
       "15     16       Post            12.8205  13.043478   34.782609\n",
       "16     17       Post            15.7895   9.950249   19.900498\n",
       "17     18       Post             0.0000   9.950249    9.950249\n",
       "18     19       Post            30.7692   8.510638   25.531915\n",
       "19     20       Post            26.8293   9.259259   23.148148"
      ]
     },
     "execution_count": 117,
     "metadata": {},
     "output_type": "execute_result"
    }
   ],
   "source": [
    "TF"
   ]
  },
  {
   "cell_type": "code",
   "execution_count": 123,
   "id": "a0662632",
   "metadata": {},
   "outputs": [],
   "source": [
    "TF.rename(columns ={'VAR4':'TRFF','VAR5':'CI'},inplace=True)"
   ]
  },
  {
   "cell_type": "code",
   "execution_count": 124,
   "id": "610ce6ef",
   "metadata": {},
   "outputs": [
    {
     "data": {
      "text/html": [
       "<div>\n",
       "<style scoped>\n",
       "    .dataframe tbody tr th:only-of-type {\n",
       "        vertical-align: middle;\n",
       "    }\n",
       "\n",
       "    .dataframe tbody tr th {\n",
       "        vertical-align: top;\n",
       "    }\n",
       "\n",
       "    .dataframe thead th {\n",
       "        text-align: right;\n",
       "    }\n",
       "</style>\n",
       "<table border=\"1\" class=\"dataframe\">\n",
       "  <thead>\n",
       "    <tr style=\"text-align: right;\">\n",
       "      <th></th>\n",
       "      <th>Month</th>\n",
       "      <th>Reengineer</th>\n",
       "      <th>Employee_Turnover</th>\n",
       "      <th>TRFF</th>\n",
       "      <th>CI</th>\n",
       "    </tr>\n",
       "  </thead>\n",
       "  <tbody>\n",
       "    <tr>\n",
       "      <th>0</th>\n",
       "      <td>1</td>\n",
       "      <td>Prior</td>\n",
       "      <td>0.0000</td>\n",
       "      <td>24.390244</td>\n",
       "      <td>42.682927</td>\n",
       "    </tr>\n",
       "    <tr>\n",
       "      <th>1</th>\n",
       "      <td>2</td>\n",
       "      <td>Prior</td>\n",
       "      <td>6.0606</td>\n",
       "      <td>19.354839</td>\n",
       "      <td>25.806452</td>\n",
       "    </tr>\n",
       "    <tr>\n",
       "      <th>2</th>\n",
       "      <td>3</td>\n",
       "      <td>Prior</td>\n",
       "      <td>12.1212</td>\n",
       "      <td>35.087719</td>\n",
       "      <td>146.198830</td>\n",
       "    </tr>\n",
       "    <tr>\n",
       "      <th>3</th>\n",
       "      <td>4</td>\n",
       "      <td>Prior</td>\n",
       "      <td>3.3333</td>\n",
       "      <td>18.404908</td>\n",
       "      <td>110.429448</td>\n",
       "    </tr>\n",
       "    <tr>\n",
       "      <th>4</th>\n",
       "      <td>5</td>\n",
       "      <td>Prior</td>\n",
       "      <td>12.9032</td>\n",
       "      <td>17.964072</td>\n",
       "      <td>23.952096</td>\n",
       "    </tr>\n",
       "    <tr>\n",
       "      <th>5</th>\n",
       "      <td>6</td>\n",
       "      <td>Prior</td>\n",
       "      <td>9.6774</td>\n",
       "      <td>41.176471</td>\n",
       "      <td>47.058824</td>\n",
       "    </tr>\n",
       "    <tr>\n",
       "      <th>6</th>\n",
       "      <td>7</td>\n",
       "      <td>Prior</td>\n",
       "      <td>11.7647</td>\n",
       "      <td>13.422819</td>\n",
       "      <td>0.000000</td>\n",
       "    </tr>\n",
       "    <tr>\n",
       "      <th>7</th>\n",
       "      <td>8</td>\n",
       "      <td>Prior</td>\n",
       "      <td>11.4286</td>\n",
       "      <td>31.250000</td>\n",
       "      <td>25.000000</td>\n",
       "    </tr>\n",
       "    <tr>\n",
       "      <th>8</th>\n",
       "      <td>9</td>\n",
       "      <td>Prior</td>\n",
       "      <td>23.0769</td>\n",
       "      <td>17.241379</td>\n",
       "      <td>132.183908</td>\n",
       "    </tr>\n",
       "    <tr>\n",
       "      <th>9</th>\n",
       "      <td>10</td>\n",
       "      <td>Prior</td>\n",
       "      <td>15.0000</td>\n",
       "      <td>16.574586</td>\n",
       "      <td>16.574586</td>\n",
       "    </tr>\n",
       "    <tr>\n",
       "      <th>10</th>\n",
       "      <td>11</td>\n",
       "      <td>Prior</td>\n",
       "      <td>10.0000</td>\n",
       "      <td>5.917160</td>\n",
       "      <td>88.757396</td>\n",
       "    </tr>\n",
       "    <tr>\n",
       "      <th>11</th>\n",
       "      <td>12</td>\n",
       "      <td>Prior</td>\n",
       "      <td>26.0870</td>\n",
       "      <td>21.164021</td>\n",
       "      <td>31.746032</td>\n",
       "    </tr>\n",
       "    <tr>\n",
       "      <th>12</th>\n",
       "      <td>13</td>\n",
       "      <td>Prior</td>\n",
       "      <td>11.1111</td>\n",
       "      <td>5.076142</td>\n",
       "      <td>10.152284</td>\n",
       "    </tr>\n",
       "    <tr>\n",
       "      <th>13</th>\n",
       "      <td>14</td>\n",
       "      <td>Post</td>\n",
       "      <td>26.6667</td>\n",
       "      <td>9.708738</td>\n",
       "      <td>29.126214</td>\n",
       "    </tr>\n",
       "    <tr>\n",
       "      <th>14</th>\n",
       "      <td>15</td>\n",
       "      <td>Post</td>\n",
       "      <td>17.9487</td>\n",
       "      <td>4.201681</td>\n",
       "      <td>21.008403</td>\n",
       "    </tr>\n",
       "    <tr>\n",
       "      <th>15</th>\n",
       "      <td>16</td>\n",
       "      <td>Post</td>\n",
       "      <td>12.8205</td>\n",
       "      <td>13.043478</td>\n",
       "      <td>34.782609</td>\n",
       "    </tr>\n",
       "    <tr>\n",
       "      <th>16</th>\n",
       "      <td>17</td>\n",
       "      <td>Post</td>\n",
       "      <td>15.7895</td>\n",
       "      <td>9.950249</td>\n",
       "      <td>19.900498</td>\n",
       "    </tr>\n",
       "    <tr>\n",
       "      <th>17</th>\n",
       "      <td>18</td>\n",
       "      <td>Post</td>\n",
       "      <td>0.0000</td>\n",
       "      <td>9.950249</td>\n",
       "      <td>9.950249</td>\n",
       "    </tr>\n",
       "    <tr>\n",
       "      <th>18</th>\n",
       "      <td>19</td>\n",
       "      <td>Post</td>\n",
       "      <td>30.7692</td>\n",
       "      <td>8.510638</td>\n",
       "      <td>25.531915</td>\n",
       "    </tr>\n",
       "    <tr>\n",
       "      <th>19</th>\n",
       "      <td>20</td>\n",
       "      <td>Post</td>\n",
       "      <td>26.8293</td>\n",
       "      <td>9.259259</td>\n",
       "      <td>23.148148</td>\n",
       "    </tr>\n",
       "  </tbody>\n",
       "</table>\n",
       "</div>"
      ],
      "text/plain": [
       "    Month Reengineer  Employee_Turnover       TRFF          CI\n",
       "0       1      Prior             0.0000  24.390244   42.682927\n",
       "1       2      Prior             6.0606  19.354839   25.806452\n",
       "2       3      Prior            12.1212  35.087719  146.198830\n",
       "3       4      Prior             3.3333  18.404908  110.429448\n",
       "4       5      Prior            12.9032  17.964072   23.952096\n",
       "5       6      Prior             9.6774  41.176471   47.058824\n",
       "6       7      Prior            11.7647  13.422819    0.000000\n",
       "7       8      Prior            11.4286  31.250000   25.000000\n",
       "8       9      Prior            23.0769  17.241379  132.183908\n",
       "9      10      Prior            15.0000  16.574586   16.574586\n",
       "10     11      Prior            10.0000   5.917160   88.757396\n",
       "11     12      Prior            26.0870  21.164021   31.746032\n",
       "12     13      Prior            11.1111   5.076142   10.152284\n",
       "13     14       Post            26.6667   9.708738   29.126214\n",
       "14     15       Post            17.9487   4.201681   21.008403\n",
       "15     16       Post            12.8205  13.043478   34.782609\n",
       "16     17       Post            15.7895   9.950249   19.900498\n",
       "17     18       Post             0.0000   9.950249    9.950249\n",
       "18     19       Post            30.7692   8.510638   25.531915\n",
       "19     20       Post            26.8293   9.259259   23.148148"
      ]
     },
     "execution_count": 124,
     "metadata": {},
     "output_type": "execute_result"
    }
   ],
   "source": [
    "TF"
   ]
  },
  {
   "cell_type": "code",
   "execution_count": null,
   "id": "b676e845",
   "metadata": {},
   "outputs": [],
   "source": [
    "# we need CI% before and after the reengineering effort "
   ]
  },
  {
   "cell_type": "code",
   "execution_count": 141,
   "id": "fa103068",
   "metadata": {},
   "outputs": [
    {
     "data": {
      "text/plain": [
       "0      42.682927\n",
       "1      25.806452\n",
       "2     146.198830\n",
       "3     110.429448\n",
       "4      23.952096\n",
       "5      47.058824\n",
       "6       0.000000\n",
       "7      25.000000\n",
       "8     132.183908\n",
       "9      16.574586\n",
       "10     88.757396\n",
       "11     31.746032\n",
       "12     10.152284\n",
       "Name: CI, dtype: float64"
      ]
     },
     "execution_count": 141,
     "metadata": {},
     "output_type": "execute_result"
    }
   ],
   "source": [
    "pre=TF[TF.Reengineer=='Prior']['CI']\n",
    "pre"
   ]
  },
  {
   "cell_type": "code",
   "execution_count": 143,
   "id": "1739275c",
   "metadata": {},
   "outputs": [
    {
     "data": {
      "text/plain": [
       "13    29.126214\n",
       "14    21.008403\n",
       "15    34.782609\n",
       "16    19.900498\n",
       "17     9.950249\n",
       "18    25.531915\n",
       "19    23.148148\n",
       "Name: CI, dtype: float64"
      ]
     },
     "execution_count": 143,
     "metadata": {},
     "output_type": "execute_result"
    }
   ],
   "source": [
    "post=TF[TF.Reengineer=='Post']['CI']\n",
    "post"
   ]
  },
  {
   "cell_type": "code",
   "execution_count": 152,
   "id": "da3df38e",
   "metadata": {},
   "outputs": [
    {
     "name": "stdout",
     "output_type": "stream",
     "text": [
      "mean before the reengineering = 53.887906321846145 \n",
      "mean before the reengineering = 23.34971927988571\n"
     ]
    }
   ],
   "source": [
    "print ('mean before the reengineering =',pre.mean(), '\\nmean before the reengineering =' ,post.mean())"
   ]
  },
  {
   "cell_type": "code",
   "execution_count": null,
   "id": "e08bdedd",
   "metadata": {},
   "outputs": [],
   "source": [
    "# we will performe the t-test"
   ]
  },
  {
   "cell_type": "code",
   "execution_count": 156,
   "id": "b149a314",
   "metadata": {},
   "outputs": [
    {
     "data": {
      "text/plain": [
       "Ttest_indResult(statistic=1.6279144253528646, pvalue=0.12091989189884149)"
      ]
     },
     "execution_count": 156,
     "metadata": {},
     "output_type": "execute_result"
    }
   ],
   "source": [
    "per_post_stats=stats.ttest_ind(pre,post)\n",
    "per_post_stats"
   ]
  },
  {
   "cell_type": "code",
   "execution_count": 157,
   "id": "b1cc0e88",
   "metadata": {},
   "outputs": [
    {
     "name": "stdout",
     "output_type": "stream",
     "text": [
      "We fail to reject null hypothesis\n"
     ]
    }
   ],
   "source": [
    "p=per_post_stats.pvalue\n",
    "if(p<0.05):\n",
    "    print('We reject null hypothesis')\n",
    "else:\n",
    "    print('We fail to reject null hypothesis')"
   ]
  },
  {
   "cell_type": "markdown",
   "id": "d682c3c3",
   "metadata": {},
   "source": [
    "### There is Effect of reengineering effort on the incidence behavioral problems and staff turnover."
   ]
  },
  {
   "cell_type": "code",
   "execution_count": null,
   "id": "4bf020ea",
   "metadata": {},
   "outputs": [],
   "source": []
  },
  {
   "cell_type": "markdown",
   "id": "01467f3c",
   "metadata": {},
   "source": [
    "## BUSINESS PROBLEM-4\n",
    "\n",
    "### BUSINESS PROBLEM: We will focus on the prioritization system. If the system is working, then high priority jobs, on average, should be completed more quickly than medium priority jobs, and medium priority jobs should be completed more quickly than low priority jobs. Use the data provided to determine whether this is, in fact, occurring.\n",
    "\n",
    "## Ho : prioritization system has NO effect on jobs.\n",
    "## Ha : prioritization system has effect on jobs.\n",
    "\n",
    "### CI=95%\n",
    "### P-Value = 95%"
   ]
  },
  {
   "cell_type": "code",
   "execution_count": 160,
   "id": "3257d8ae",
   "metadata": {},
   "outputs": [
    {
     "data": {
      "text/html": [
       "<div>\n",
       "<style scoped>\n",
       "    .dataframe tbody tr th:only-of-type {\n",
       "        vertical-align: middle;\n",
       "    }\n",
       "\n",
       "    .dataframe tbody tr th {\n",
       "        vertical-align: top;\n",
       "    }\n",
       "\n",
       "    .dataframe thead th {\n",
       "        text-align: right;\n",
       "    }\n",
       "</style>\n",
       "<table border=\"1\" class=\"dataframe\">\n",
       "  <thead>\n",
       "    <tr style=\"text-align: right;\">\n",
       "      <th></th>\n",
       "      <th>Days</th>\n",
       "      <th>Priority</th>\n",
       "    </tr>\n",
       "  </thead>\n",
       "  <tbody>\n",
       "    <tr>\n",
       "      <th>0</th>\n",
       "      <td>3.3</td>\n",
       "      <td>High</td>\n",
       "    </tr>\n",
       "    <tr>\n",
       "      <th>1</th>\n",
       "      <td>7.9</td>\n",
       "      <td>Medium</td>\n",
       "    </tr>\n",
       "    <tr>\n",
       "      <th>2</th>\n",
       "      <td>0.3</td>\n",
       "      <td>High</td>\n",
       "    </tr>\n",
       "    <tr>\n",
       "      <th>3</th>\n",
       "      <td>0.7</td>\n",
       "      <td>Medium</td>\n",
       "    </tr>\n",
       "    <tr>\n",
       "      <th>4</th>\n",
       "      <td>8.6</td>\n",
       "      <td>Medium</td>\n",
       "    </tr>\n",
       "    <tr>\n",
       "      <th>...</th>\n",
       "      <td>...</td>\n",
       "      <td>...</td>\n",
       "    </tr>\n",
       "    <tr>\n",
       "      <th>637</th>\n",
       "      <td>2.5</td>\n",
       "      <td>Low</td>\n",
       "    </tr>\n",
       "    <tr>\n",
       "      <th>638</th>\n",
       "      <td>0.3</td>\n",
       "      <td>High</td>\n",
       "    </tr>\n",
       "    <tr>\n",
       "      <th>639</th>\n",
       "      <td>0.3</td>\n",
       "      <td>Medium</td>\n",
       "    </tr>\n",
       "    <tr>\n",
       "      <th>640</th>\n",
       "      <td>1.3</td>\n",
       "      <td>Medium</td>\n",
       "    </tr>\n",
       "    <tr>\n",
       "      <th>641</th>\n",
       "      <td>0.5</td>\n",
       "      <td>High</td>\n",
       "    </tr>\n",
       "  </tbody>\n",
       "</table>\n",
       "<p>642 rows × 2 columns</p>\n",
       "</div>"
      ],
      "text/plain": [
       "     Days Priority\n",
       "0     3.3     High\n",
       "1     7.9   Medium\n",
       "2     0.3     High\n",
       "3     0.7   Medium\n",
       "4     8.6   Medium\n",
       "..    ...      ...\n",
       "637   2.5      Low\n",
       "638   0.3     High\n",
       "639   0.3   Medium\n",
       "640   1.3   Medium\n",
       "641   0.5     High\n",
       "\n",
       "[642 rows x 2 columns]"
      ]
     },
     "execution_count": 160,
     "metadata": {},
     "output_type": "execute_result"
    }
   ],
   "source": [
    "PA=pd.read_csv('Priority_Assessment.csv')\n",
    "PA"
   ]
  },
  {
   "cell_type": "code",
   "execution_count": 163,
   "id": "03e89d30",
   "metadata": {},
   "outputs": [
    {
     "data": {
      "text/plain": [
       "array(['High', 'Medium', 'Low'], dtype=object)"
      ]
     },
     "execution_count": 163,
     "metadata": {},
     "output_type": "execute_result"
    }
   ],
   "source": [
    "PA.Priority.unique()"
   ]
  },
  {
   "cell_type": "code",
   "execution_count": 170,
   "id": "01e62b31",
   "metadata": {},
   "outputs": [],
   "source": [
    "high=PA[PA.Priority=='High']['Days']\n",
    "medium=PA[PA.Priority=='Medium']['Days']\n",
    "low=PA[PA.Priority=='Low']['Days']"
   ]
  },
  {
   "cell_type": "code",
   "execution_count": 171,
   "id": "83fd3538",
   "metadata": {},
   "outputs": [
    {
     "name": "stdout",
     "output_type": "stream",
     "text": [
      "mean of high 3.023619631901845 \n",
      "mean of medium 2.5000000000000004 \n",
      "mean of low 4.228358208955225\n"
     ]
    }
   ],
   "source": [
    "print('mean of high', high.mean(),'\\nmean of medium',medium.mean(),'\\nmean of low',low.mean())"
   ]
  },
  {
   "cell_type": "code",
   "execution_count": null,
   "id": "9e0f404a",
   "metadata": {},
   "outputs": [],
   "source": [
    "# there are more than on sample. thus, we will perform the ANOVA/F_oneway Test."
   ]
  },
  {
   "cell_type": "code",
   "execution_count": 173,
   "id": "09a14fd7",
   "metadata": {},
   "outputs": [
    {
     "data": {
      "text/plain": [
       "F_onewayResult(statistic=1.812311010076072, pvalue=0.16411459461716182)"
      ]
     },
     "execution_count": 173,
     "metadata": {},
     "output_type": "execute_result"
    }
   ],
   "source": [
    "f_stats=stats.f_oneway(high,medium,low)\n",
    "f_stats"
   ]
  },
  {
   "cell_type": "code",
   "execution_count": 179,
   "id": "50f69cc4",
   "metadata": {},
   "outputs": [
    {
     "name": "stdout",
     "output_type": "stream",
     "text": [
      "We fail to reject null hypothesis\n"
     ]
    }
   ],
   "source": [
    "p_value=f_stats.pvalue\n",
    "if(p_value <0.05):\n",
    "    print(\"we reject the Null Hypothesis\")\n",
    "else:\n",
    "        print(\"We fail to reject null hypothesis\")"
   ]
  },
  {
   "cell_type": "markdown",
   "id": "57b926d9",
   "metadata": {},
   "source": [
    "### Thus , prioritization system has NO effect on jobs."
   ]
  },
  {
   "cell_type": "code",
   "execution_count": null,
   "id": "a31c66a4",
   "metadata": {},
   "outputs": [],
   "source": []
  },
  {
   "cell_type": "markdown",
   "id": "c5b73832",
   "metadata": {},
   "source": [
    "# BUSINESS PROBLEM-5\n",
    "\n"
   ]
  },
  {
   "cell_type": "code",
   "execution_count": 250,
   "id": "649769a8",
   "metadata": {},
   "outputs": [
    {
     "data": {
      "text/html": [
       "<div>\n",
       "<style scoped>\n",
       "    .dataframe tbody tr th:only-of-type {\n",
       "        vertical-align: middle;\n",
       "    }\n",
       "\n",
       "    .dataframe tbody tr th {\n",
       "        vertical-align: top;\n",
       "    }\n",
       "\n",
       "    .dataframe thead th {\n",
       "        text-align: right;\n",
       "    }\n",
       "</style>\n",
       "<table border=\"1\" class=\"dataframe\">\n",
       "  <thead>\n",
       "    <tr style=\"text-align: right;\">\n",
       "      <th></th>\n",
       "      <th>_rowstate_</th>\n",
       "      <th>Movie</th>\n",
       "      <th>Gender</th>\n",
       "      <th>Marital_Status</th>\n",
       "      <th>Sinage</th>\n",
       "      <th>Parking</th>\n",
       "      <th>Clean</th>\n",
       "      <th>Overall</th>\n",
       "      <th>Age</th>\n",
       "      <th>Income</th>\n",
       "      <th>Hear_About</th>\n",
       "    </tr>\n",
       "  </thead>\n",
       "  <tbody>\n",
       "    <tr>\n",
       "      <th>0</th>\n",
       "      <td>0</td>\n",
       "      <td>Ferris Buellers Day Off</td>\n",
       "      <td>Female</td>\n",
       "      <td>Married</td>\n",
       "      <td>2.0</td>\n",
       "      <td>2.0</td>\n",
       "      <td>2.0</td>\n",
       "      <td>2.0</td>\n",
       "      <td>3.0</td>\n",
       "      <td>1.0</td>\n",
       "      <td>5</td>\n",
       "    </tr>\n",
       "    <tr>\n",
       "      <th>1</th>\n",
       "      <td>0</td>\n",
       "      <td>Ferris Buellers Day Off</td>\n",
       "      <td>Female</td>\n",
       "      <td>Single</td>\n",
       "      <td>1.0</td>\n",
       "      <td>1.0</td>\n",
       "      <td>1.0</td>\n",
       "      <td>1.0</td>\n",
       "      <td>2.0</td>\n",
       "      <td>1.0</td>\n",
       "      <td>5</td>\n",
       "    </tr>\n",
       "    <tr>\n",
       "      <th>2</th>\n",
       "      <td>0</td>\n",
       "      <td>Ferris Buellers Day Off</td>\n",
       "      <td>Male</td>\n",
       "      <td>Married</td>\n",
       "      <td>2.0</td>\n",
       "      <td>4.0</td>\n",
       "      <td>3.0</td>\n",
       "      <td>2.0</td>\n",
       "      <td>4.0</td>\n",
       "      <td>1.0</td>\n",
       "      <td>5</td>\n",
       "    </tr>\n",
       "    <tr>\n",
       "      <th>3</th>\n",
       "      <td>0</td>\n",
       "      <td>Ferris Buellers Day Off</td>\n",
       "      <td>Female</td>\n",
       "      <td>Married</td>\n",
       "      <td>1.0</td>\n",
       "      <td>3.0</td>\n",
       "      <td>2.0</td>\n",
       "      <td>2.0</td>\n",
       "      <td>4.0</td>\n",
       "      <td>1.0</td>\n",
       "      <td>5</td>\n",
       "    </tr>\n",
       "    <tr>\n",
       "      <th>4</th>\n",
       "      <td>0</td>\n",
       "      <td>Ferris Buellers Day Off</td>\n",
       "      <td>Female</td>\n",
       "      <td>Married</td>\n",
       "      <td>1.0</td>\n",
       "      <td>1.0</td>\n",
       "      <td>1.0</td>\n",
       "      <td>1.0</td>\n",
       "      <td>3.0</td>\n",
       "      <td>3.0</td>\n",
       "      <td>1</td>\n",
       "    </tr>\n",
       "    <tr>\n",
       "      <th>...</th>\n",
       "      <td>...</td>\n",
       "      <td>...</td>\n",
       "      <td>...</td>\n",
       "      <td>...</td>\n",
       "      <td>...</td>\n",
       "      <td>...</td>\n",
       "      <td>...</td>\n",
       "      <td>...</td>\n",
       "      <td>...</td>\n",
       "      <td>...</td>\n",
       "      <td>...</td>\n",
       "    </tr>\n",
       "    <tr>\n",
       "      <th>325</th>\n",
       "      <td>0</td>\n",
       "      <td>Old School</td>\n",
       "      <td>2</td>\n",
       "      <td>2</td>\n",
       "      <td>1.0</td>\n",
       "      <td>2.0</td>\n",
       "      <td>1.0</td>\n",
       "      <td>1.0</td>\n",
       "      <td>2.0</td>\n",
       "      <td>1.0</td>\n",
       "      <td>1</td>\n",
       "    </tr>\n",
       "    <tr>\n",
       "      <th>326</th>\n",
       "      <td>0</td>\n",
       "      <td>Old School</td>\n",
       "      <td>1</td>\n",
       "      <td>1</td>\n",
       "      <td>2.0</td>\n",
       "      <td>2.0</td>\n",
       "      <td>2.0</td>\n",
       "      <td>2.0</td>\n",
       "      <td>3.0</td>\n",
       "      <td>3.0</td>\n",
       "      <td>5</td>\n",
       "    </tr>\n",
       "    <tr>\n",
       "      <th>327</th>\n",
       "      <td>0</td>\n",
       "      <td>Old School</td>\n",
       "      <td>2</td>\n",
       "      <td>1</td>\n",
       "      <td>2.0</td>\n",
       "      <td>1.0</td>\n",
       "      <td>1.0</td>\n",
       "      <td>2.0</td>\n",
       "      <td>2.0</td>\n",
       "      <td>2.0</td>\n",
       "      <td>5</td>\n",
       "    </tr>\n",
       "    <tr>\n",
       "      <th>328</th>\n",
       "      <td>0</td>\n",
       "      <td>Old School</td>\n",
       "      <td>1</td>\n",
       "      <td>1</td>\n",
       "      <td>1.0</td>\n",
       "      <td>1.0</td>\n",
       "      <td>1.0</td>\n",
       "      <td>1.0</td>\n",
       "      <td>2.0</td>\n",
       "      <td>1.0</td>\n",
       "      <td>3</td>\n",
       "    </tr>\n",
       "    <tr>\n",
       "      <th>329</th>\n",
       "      <td>0</td>\n",
       "      <td>Old School</td>\n",
       "      <td>2</td>\n",
       "      <td>2</td>\n",
       "      <td>2.0</td>\n",
       "      <td>2.0</td>\n",
       "      <td>3.0</td>\n",
       "      <td>1.0</td>\n",
       "      <td>2.0</td>\n",
       "      <td>1.0</td>\n",
       "      <td>5</td>\n",
       "    </tr>\n",
       "  </tbody>\n",
       "</table>\n",
       "<p>330 rows × 11 columns</p>\n",
       "</div>"
      ],
      "text/plain": [
       "     _rowstate_                    Movie  Gender Marital_Status  Sinage  \\\n",
       "0             0  Ferris Buellers Day Off  Female        Married     2.0   \n",
       "1             0  Ferris Buellers Day Off  Female         Single     1.0   \n",
       "2             0  Ferris Buellers Day Off    Male        Married     2.0   \n",
       "3             0  Ferris Buellers Day Off  Female        Married     1.0   \n",
       "4             0  Ferris Buellers Day Off  Female        Married     1.0   \n",
       "..          ...                      ...     ...            ...     ...   \n",
       "325           0               Old School       2              2     1.0   \n",
       "326           0               Old School       1              1     2.0   \n",
       "327           0               Old School       2              1     2.0   \n",
       "328           0               Old School       1              1     1.0   \n",
       "329           0               Old School       2              2     2.0   \n",
       "\n",
       "     Parking  Clean  Overall  Age  Income Hear_About  \n",
       "0        2.0    2.0      2.0  3.0     1.0          5  \n",
       "1        1.0    1.0      1.0  2.0     1.0          5  \n",
       "2        4.0    3.0      2.0  4.0     1.0          5  \n",
       "3        3.0    2.0      2.0  4.0     1.0          5  \n",
       "4        1.0    1.0      1.0  3.0     3.0          1  \n",
       "..       ...    ...      ...  ...     ...        ...  \n",
       "325      2.0    1.0      1.0  2.0     1.0          1  \n",
       "326      2.0    2.0      2.0  3.0     3.0          5  \n",
       "327      1.0    1.0      2.0  2.0     2.0          5  \n",
       "328      1.0    1.0      1.0  2.0     1.0          3  \n",
       "329      2.0    3.0      1.0  2.0     1.0          5  \n",
       "\n",
       "[330 rows x 11 columns]"
      ]
     },
     "execution_count": 250,
     "metadata": {},
     "output_type": "execute_result"
    }
   ],
   "source": [
    "survey_data=pd.read_csv('Films.csv')\n",
    "survey_data"
   ]
  },
  {
   "cell_type": "code",
   "execution_count": 251,
   "id": "a0a76065",
   "metadata": {},
   "outputs": [
    {
     "name": "stdout",
     "output_type": "stream",
     "text": [
      "<class 'pandas.core.frame.DataFrame'>\n",
      "RangeIndex: 330 entries, 0 to 329\n",
      "Data columns (total 11 columns):\n",
      " #   Column          Non-Null Count  Dtype  \n",
      "---  ------          --------------  -----  \n",
      " 0   _rowstate_      330 non-null    int64  \n",
      " 1   Movie           330 non-null    object \n",
      " 2   Gender          330 non-null    object \n",
      " 3   Marital_Status  328 non-null    object \n",
      " 4   Sinage          328 non-null    float64\n",
      " 5   Parking         328 non-null    float64\n",
      " 6   Clean           327 non-null    float64\n",
      " 7   Overall         328 non-null    float64\n",
      " 8   Age             328 non-null    float64\n",
      " 9   Income          314 non-null    float64\n",
      " 10  Hear_About      323 non-null    object \n",
      "dtypes: float64(6), int64(1), object(4)\n",
      "memory usage: 28.5+ KB\n"
     ]
    }
   ],
   "source": [
    "survey_data.info()"
   ]
  },
  {
   "cell_type": "code",
   "execution_count": null,
   "id": "cb7fa4e1",
   "metadata": {},
   "outputs": [],
   "source": [
    "# EDA and Missing value treatment"
   ]
  },
  {
   "cell_type": "code",
   "execution_count": 252,
   "id": "b69f0874",
   "metadata": {},
   "outputs": [
    {
     "data": {
      "text/plain": [
       "array(['Female', 'Male', '2', '1'], dtype=object)"
      ]
     },
     "execution_count": 252,
     "metadata": {},
     "output_type": "execute_result"
    }
   ],
   "source": [
    "survey_data.Gender.unique()"
   ]
  },
  {
   "cell_type": "code",
   "execution_count": 253,
   "id": "e40042af",
   "metadata": {},
   "outputs": [],
   "source": [
    "survey_data.loc[survey_data['Gender'] =='Male','Gender']='1'"
   ]
  },
  {
   "cell_type": "code",
   "execution_count": 254,
   "id": "2ae4edd1",
   "metadata": {},
   "outputs": [
    {
     "data": {
      "text/plain": [
       "array(['Female', '1', '2'], dtype=object)"
      ]
     },
     "execution_count": 254,
     "metadata": {},
     "output_type": "execute_result"
    }
   ],
   "source": [
    "survey_data.Gender.unique()"
   ]
  },
  {
   "cell_type": "code",
   "execution_count": 255,
   "id": "6d2d2a28",
   "metadata": {},
   "outputs": [],
   "source": [
    "survey_data.loc[survey_data['Gender'] =='Female','Gender']='2'"
   ]
  },
  {
   "cell_type": "code",
   "execution_count": 256,
   "id": "36b99820",
   "metadata": {},
   "outputs": [
    {
     "data": {
      "text/plain": [
       "array(['2', '1'], dtype=object)"
      ]
     },
     "execution_count": 256,
     "metadata": {},
     "output_type": "execute_result"
    }
   ],
   "source": [
    "survey_data.Gender.unique()"
   ]
  },
  {
   "cell_type": "code",
   "execution_count": 257,
   "id": "cbec3965",
   "metadata": {},
   "outputs": [
    {
     "data": {
      "text/plain": [
       "array(['Married', 'Single', 'Slngle', '1', '2', nan], dtype=object)"
      ]
     },
     "execution_count": 257,
     "metadata": {},
     "output_type": "execute_result"
    }
   ],
   "source": [
    "survey_data.Marital_Status.unique()"
   ]
  },
  {
   "cell_type": "code",
   "execution_count": 258,
   "id": "5957c995",
   "metadata": {},
   "outputs": [],
   "source": [
    "survey_data.loc[survey_data['Marital_Status']=='Married','Marital_Status']='1'"
   ]
  },
  {
   "cell_type": "code",
   "execution_count": 259,
   "id": "bf1ed5d1",
   "metadata": {},
   "outputs": [
    {
     "data": {
      "text/plain": [
       "array(['1', 'Single', 'Slngle', '2', nan], dtype=object)"
      ]
     },
     "execution_count": 259,
     "metadata": {},
     "output_type": "execute_result"
    }
   ],
   "source": [
    "survey_data.Marital_Status.unique()"
   ]
  },
  {
   "cell_type": "code",
   "execution_count": 261,
   "id": "9d0182a2",
   "metadata": {},
   "outputs": [],
   "source": [
    "survey_data.loc[(survey_data.Marital_Status=='Single')| (survey_data.Marital_Status=='Slngle'),'Marital_Status']='2'"
   ]
  },
  {
   "cell_type": "code",
   "execution_count": 262,
   "id": "6cd9dcb8",
   "metadata": {},
   "outputs": [
    {
     "data": {
      "text/plain": [
       "array(['1', '2', nan], dtype=object)"
      ]
     },
     "execution_count": 262,
     "metadata": {},
     "output_type": "execute_result"
    }
   ],
   "source": [
    "survey_data.Marital_Status.unique()"
   ]
  },
  {
   "cell_type": "code",
   "execution_count": 266,
   "id": "ec3c5082",
   "metadata": {},
   "outputs": [
    {
     "data": {
      "text/plain": [
       "2"
      ]
     },
     "execution_count": 266,
     "metadata": {},
     "output_type": "execute_result"
    }
   ],
   "source": [
    "survey_data.Marital_Status.isna().sum()"
   ]
  },
  {
   "cell_type": "code",
   "execution_count": 283,
   "id": "7b6e579c",
   "metadata": {},
   "outputs": [],
   "source": [
    "survey_data.Marital_Status.fillna(survey_data.Marital_Status.mode().iloc[0],inplace=True)\n"
   ]
  },
  {
   "cell_type": "code",
   "execution_count": 284,
   "id": "27ce042b",
   "metadata": {},
   "outputs": [
    {
     "data": {
      "text/plain": [
       "array(['1', '2'], dtype=object)"
      ]
     },
     "execution_count": 284,
     "metadata": {},
     "output_type": "execute_result"
    }
   ],
   "source": [
    "survey_data.Marital_Status.unique()"
   ]
  },
  {
   "cell_type": "code",
   "execution_count": 286,
   "id": "31dea0ff",
   "metadata": {},
   "outputs": [
    {
     "data": {
      "text/html": [
       "<div>\n",
       "<style scoped>\n",
       "    .dataframe tbody tr th:only-of-type {\n",
       "        vertical-align: middle;\n",
       "    }\n",
       "\n",
       "    .dataframe tbody tr th {\n",
       "        vertical-align: top;\n",
       "    }\n",
       "\n",
       "    .dataframe thead th {\n",
       "        text-align: right;\n",
       "    }\n",
       "</style>\n",
       "<table border=\"1\" class=\"dataframe\">\n",
       "  <thead>\n",
       "    <tr style=\"text-align: right;\">\n",
       "      <th></th>\n",
       "      <th>_rowstate_</th>\n",
       "      <th>Movie</th>\n",
       "      <th>Gender</th>\n",
       "      <th>Marital_Status</th>\n",
       "      <th>Sinage</th>\n",
       "      <th>Parking</th>\n",
       "      <th>Clean</th>\n",
       "      <th>Overall</th>\n",
       "      <th>Age</th>\n",
       "      <th>Income</th>\n",
       "      <th>Hear_About</th>\n",
       "    </tr>\n",
       "  </thead>\n",
       "  <tbody>\n",
       "  </tbody>\n",
       "</table>\n",
       "</div>"
      ],
      "text/plain": [
       "Empty DataFrame\n",
       "Columns: [_rowstate_, Movie, Gender, Marital_Status, Sinage, Parking, Clean, Overall, Age, Income, Hear_About]\n",
       "Index: []"
      ]
     },
     "execution_count": 286,
     "metadata": {},
     "output_type": "execute_result"
    }
   ],
   "source": [
    "survey_data[survey_data['Marital_Status'].isna()]"
   ]
  },
  {
   "cell_type": "code",
   "execution_count": 287,
   "id": "b6c20626",
   "metadata": {},
   "outputs": [
    {
     "data": {
      "text/html": [
       "<div>\n",
       "<style scoped>\n",
       "    .dataframe tbody tr th:only-of-type {\n",
       "        vertical-align: middle;\n",
       "    }\n",
       "\n",
       "    .dataframe tbody tr th {\n",
       "        vertical-align: top;\n",
       "    }\n",
       "\n",
       "    .dataframe thead th {\n",
       "        text-align: right;\n",
       "    }\n",
       "</style>\n",
       "<table border=\"1\" class=\"dataframe\">\n",
       "  <thead>\n",
       "    <tr style=\"text-align: right;\">\n",
       "      <th></th>\n",
       "      <th>_rowstate_</th>\n",
       "      <th>Movie</th>\n",
       "      <th>Gender</th>\n",
       "      <th>Marital_Status</th>\n",
       "      <th>Sinage</th>\n",
       "      <th>Parking</th>\n",
       "      <th>Clean</th>\n",
       "      <th>Overall</th>\n",
       "      <th>Age</th>\n",
       "      <th>Income</th>\n",
       "      <th>Hear_About</th>\n",
       "    </tr>\n",
       "  </thead>\n",
       "  <tbody>\n",
       "    <tr>\n",
       "      <th>139</th>\n",
       "      <td>0</td>\n",
       "      <td>Willy Wonka</td>\n",
       "      <td>1</td>\n",
       "      <td>2</td>\n",
       "      <td>2.0</td>\n",
       "      <td>2.0</td>\n",
       "      <td>2.0</td>\n",
       "      <td>1.0</td>\n",
       "      <td>2.0</td>\n",
       "      <td>1.0</td>\n",
       "      <td>5</td>\n",
       "    </tr>\n",
       "    <tr>\n",
       "      <th>323</th>\n",
       "      <td>0</td>\n",
       "      <td>Old School</td>\n",
       "      <td>1</td>\n",
       "      <td>2</td>\n",
       "      <td>2.0</td>\n",
       "      <td>2.0</td>\n",
       "      <td>2.0</td>\n",
       "      <td>2.0</td>\n",
       "      <td>2.0</td>\n",
       "      <td>3.0</td>\n",
       "      <td>5</td>\n",
       "    </tr>\n",
       "  </tbody>\n",
       "</table>\n",
       "</div>"
      ],
      "text/plain": [
       "     _rowstate_        Movie Gender Marital_Status  Sinage  Parking  Clean  \\\n",
       "139           0  Willy Wonka      1              2     2.0      2.0    2.0   \n",
       "323           0   Old School      1              2     2.0      2.0    2.0   \n",
       "\n",
       "     Overall  Age  Income Hear_About  \n",
       "139      1.0  2.0     1.0          5  \n",
       "323      2.0  2.0     3.0          5  "
      ]
     },
     "execution_count": 287,
     "metadata": {},
     "output_type": "execute_result"
    }
   ],
   "source": [
    "survey_data.loc[[139,323]]"
   ]
  },
  {
   "cell_type": "code",
   "execution_count": 289,
   "id": "3daac36e",
   "metadata": {},
   "outputs": [
    {
     "data": {
      "text/plain": [
       "_rowstate_         0\n",
       "Movie              0\n",
       "Gender             0\n",
       "Marital_Status     0\n",
       "Sinage             2\n",
       "Parking            2\n",
       "Clean              3\n",
       "Overall            2\n",
       "Age                2\n",
       "Income            16\n",
       "Hear_About         7\n",
       "dtype: int64"
      ]
     },
     "execution_count": 289,
     "metadata": {},
     "output_type": "execute_result"
    }
   ],
   "source": [
    "survey_data.isna().sum()"
   ]
  },
  {
   "cell_type": "code",
   "execution_count": 292,
   "id": "baf1651c",
   "metadata": {},
   "outputs": [
    {
     "data": {
      "text/plain": [
       "array([ 3.,  2.,  4.,  1., nan])"
      ]
     },
     "execution_count": 292,
     "metadata": {},
     "output_type": "execute_result"
    }
   ],
   "source": [
    "survey_data.Age.unique()"
   ]
  },
  {
   "cell_type": "markdown",
   "id": "fd825d6e",
   "metadata": {},
   "source": [
    "## What is the overall level of customer satisfaction?"
   ]
  },
  {
   "cell_type": "code",
   "execution_count": 380,
   "id": "41c70476",
   "metadata": {},
   "outputs": [
    {
     "data": {
      "text/plain": [
       "<AxesSubplot:ylabel='Frequency'>"
      ]
     },
     "execution_count": 380,
     "metadata": {},
     "output_type": "execute_result"
    },
    {
     "data": {
      "image/png": "[encoded data removed]",
      "text/plain": [
       "<Figure size 432x288 with 1 Axes>"
      ]
     },
     "metadata": {
      "needs_background": "light"
     },
     "output_type": "display_data"
    }
   ],
   "source": [
    "# What is the overall level of customer satisfaction?\n",
    "survey_data.Overall.plot(kind=\"hist\")\n",
    "\n",
    "\n",
    "                        \n",
    "\n",
    "\n"
   ]
  },
  {
   "cell_type": "markdown",
   "id": "6b5bc0a8",
   "metadata": {},
   "source": [
    "### Overall customer satisfaction is excellent and Good"
   ]
  },
  {
   "cell_type": "code",
   "execution_count": null,
   "id": "8698e721",
   "metadata": {},
   "outputs": [],
   "source": []
  },
  {
   "cell_type": "markdown",
   "id": "8c2880fc",
   "metadata": {},
   "source": [
    "## What factors are linked to satisfaction?"
   ]
  },
  {
   "cell_type": "code",
   "execution_count": 397,
   "id": "f5c42d5b",
   "metadata": {},
   "outputs": [
    {
     "data": {
      "text/plain": [
       "(229.47943657632044,\n",
       " 8.162450437897989e-40,\n",
       " 16,\n",
       " array([[6.18776758e+01, 7.06513761e+01, 1.33914373e+01, 3.23241590e+00,\n",
       "         1.84709480e+00],\n",
       "        [6.51559633e+01, 7.43944954e+01, 1.41009174e+01, 3.40366972e+00,\n",
       "         1.94495413e+00],\n",
       "        [4.91743119e+00, 5.61467890e+00, 1.06422018e+00, 2.56880734e-01,\n",
       "         1.46788991e-01],\n",
       "        [4.09785933e-01, 4.67889908e-01, 8.86850153e-02, 2.14067278e-02,\n",
       "         1.22324159e-02],\n",
       "        [1.63914373e+00, 1.87155963e+00, 3.54740061e-01, 8.56269113e-02,\n",
       "         4.89296636e-02]]))"
      ]
     },
     "execution_count": 397,
     "metadata": {},
     "output_type": "execute_result"
    }
   ],
   "source": [
    "observed =pd.crosstab(index=survey_data.Overall,columns=(survey_data.Parking))\n",
    "observed\n",
    "stats.chi2_contingency(observed)"
   ]
  },
  {
   "cell_type": "code",
   "execution_count": 398,
   "id": "b1dedbe2",
   "metadata": {},
   "outputs": [
    {
     "data": {
      "text/plain": [
       "(124.81695331531306,\n",
       " 6.47639805161236e-19,\n",
       " 16,\n",
       " array([[5.18348624e+01, 7.11009174e+01, 2.20183486e+01, 2.75229358e+00,\n",
       "         2.29357798e+00],\n",
       "        [5.52905199e+01, 7.58409786e+01, 2.34862385e+01, 2.93577982e+00,\n",
       "         2.44648318e+00],\n",
       "        [4.14678899e+00, 5.68807339e+00, 1.76146789e+00, 2.20183486e-01,\n",
       "         1.83486239e-01],\n",
       "        [3.45565749e-01, 4.74006116e-01, 1.46788991e-01, 1.83486239e-02,\n",
       "         1.52905199e-02],\n",
       "        [1.38226300e+00, 1.89602446e+00, 5.87155963e-01, 7.33944954e-02,\n",
       "         6.11620795e-02]]))"
      ]
     },
     "execution_count": 398,
     "metadata": {},
     "output_type": "execute_result"
    }
   ],
   "source": [
    "observed1 =pd.crosstab(index=survey_data.Overall,columns=(survey_data.Sinage))\n",
    "observed1\n",
    "stats.chi2_contingency(observed1)"
   ]
  },
  {
   "cell_type": "code",
   "execution_count": 399,
   "id": "66f72aaf",
   "metadata": {},
   "outputs": [
    {
     "data": {
      "text/plain": [
       "(125.17708834561675,\n",
       " 5.517448379868074e-19,\n",
       " 16,\n",
       " array([[6.64954128e+01, 7.01896024e+01, 1.10825688e+01, 2.30886850e+00,\n",
       "         9.23547401e-01],\n",
       "        [7.00183486e+01, 7.39082569e+01, 1.16697248e+01, 2.43119266e+00,\n",
       "         9.72477064e-01],\n",
       "        [5.28440367e+00, 5.57798165e+00, 8.80733945e-01, 1.83486239e-01,\n",
       "         7.33944954e-02],\n",
       "        [4.40366972e-01, 4.64831804e-01, 7.33944954e-02, 1.52905199e-02,\n",
       "         6.11620795e-03],\n",
       "        [1.76146789e+00, 1.85932722e+00, 2.93577982e-01, 6.11620795e-02,\n",
       "         2.44648318e-02]]))"
      ]
     },
     "execution_count": 399,
     "metadata": {},
     "output_type": "execute_result"
    }
   ],
   "source": [
    "observed2 =pd.crosstab(index=survey_data.Overall,columns=(survey_data.Clean))\n",
    "observed2\n",
    "stats.chi2_contingency(observed2)"
   ]
  },
  {
   "cell_type": "code",
   "execution_count": 407,
   "id": "e8a5f29b",
   "metadata": {},
   "outputs": [
    {
     "data": {
      "text/plain": [
       "0      2.0\n",
       "1      1.0\n",
       "2      2.0\n",
       "3      2.0\n",
       "4      1.0\n",
       "      ... \n",
       "325    1.0\n",
       "326    2.0\n",
       "327    2.0\n",
       "328    1.0\n",
       "329    1.0\n",
       "Name: Overall, Length: 328, dtype: float64"
      ]
     },
     "execution_count": 407,
     "metadata": {},
     "output_type": "execute_result"
    }
   ],
   "source": [
    "survey_data.Overall.dropna()"
   ]
  },
  {
   "cell_type": "code",
   "execution_count": 411,
   "id": "ec16bb5b",
   "metadata": {},
   "outputs": [
    {
     "data": {
      "text/plain": [
       "(0.5084697465891809, 5.74344973830048e-23)"
      ]
     },
     "execution_count": 411,
     "metadata": {},
     "output_type": "execute_result"
    }
   ],
   "source": [
    "\n",
    "stats.pearsonr(survey_data.Overall.dropna(),survey_data.Parking.dropna())"
   ]
  },
  {
   "cell_type": "code",
   "execution_count": 412,
   "id": "4365c191",
   "metadata": {},
   "outputs": [
    {
     "data": {
      "text/plain": [
       "(0.38735292893717305, 3.478970759719073e-13)"
      ]
     },
     "execution_count": 412,
     "metadata": {},
     "output_type": "execute_result"
    }
   ],
   "source": [
    "stats.pearsonr(survey_data.Overall.dropna(),survey_data.Sinage.dropna())"
   ]
  },
  {
   "cell_type": "code",
   "execution_count": 410,
   "id": "d359c624",
   "metadata": {},
   "outputs": [
    {
     "data": {
      "text/plain": [
       "_rowstate_         0\n",
       "Movie              0\n",
       "Gender             0\n",
       "Marital_Status     0\n",
       "Sinage             2\n",
       "Parking            2\n",
       "Clean              3\n",
       "Overall            2\n",
       "Age                2\n",
       "Income            16\n",
       "Hear_About         7\n",
       "dtype: int64"
      ]
     },
     "execution_count": 410,
     "metadata": {},
     "output_type": "execute_result"
    }
   ],
   "source": [
    "survey_data.isna().sum()"
   ]
  },
  {
   "cell_type": "markdown",
   "id": "15ca7e1d",
   "metadata": {},
   "source": [
    "\n",
    "## Chi_square and pearson corelation shows that there is strong releanship between overall and parking, which affecting the overall satisfaction level."
   ]
  },
  {
   "cell_type": "code",
   "execution_count": null,
   "id": "8d2b645b",
   "metadata": {},
   "outputs": [],
   "source": [
    "\n"
   ]
  },
  {
   "cell_type": "markdown",
   "id": "695afe77",
   "metadata": {},
   "source": [
    "## What is the demographic profile of Film on the Rocks patrons?\n"
   ]
  },
  {
   "cell_type": "code",
   "execution_count": 685,
   "id": "bbdf4c2d",
   "metadata": {},
   "outputs": [
    {
     "data": {
      "image/png": "[encoded data removed]",
      "text/plain": [
       "<Figure size 1080x576 with 4 Axes>"
      ]
     },
     "metadata": {
      "needs_background": "light"
     },
     "output_type": "display_data"
    }
   ],
   "source": [
    "Gender_title=('Male=' +str(round(((survey_data.Gender=='1').sum()/survey_data.Gender.count())*100))+str('%'),\n",
    "            'and Female='+str(round(((survey_data.Gender=='2').sum()/survey_data.Gender.count())*100))+str('%'))\n",
    "\n",
    "status_title=('Married='+str(round(((survey_data.Marital_Status=='1').sum()/survey_data.Marital_Status.count())*100))+str('%'),\n",
    "            'and Single=' +str(round(((survey_data.Marital_Status=='2').sum()/survey_data.Marital_Status.count())*100))+str('%'))\n",
    "\n",
    "age_title=('1-12 Year='+str(survey_data.loc[survey_data.Age==1.0,'Age'].count()),'13-30 Year=' \n",
    "             +str(survey_data.loc[survey_data.Age==2.0,'Age'].count()),\n",
    "            '31-60 Year='+str(survey_data.loc[survey_data.Age==3.0,'Age'].count()),\n",
    "            '60+ ='+str(survey_data.loc[survey_data.Age==4.0,'Age'].count()))\n",
    "\n",
    "Income_title=('Less than $$50,000= ' +str(round(((survey_data.Income.dropna()==1.0).sum()/(survey_data.Income.dropna()).count())*100)) +str('%'),\n",
    "              '$50-$100,000='  +str(round(((survey_data.Income.dropna()==2.0).sum()/(survey_data.Income.dropna()).count())*100))+str('%'),\n",
    "              '$100,000+='+str(round(((survey_data.Income.dropna()==3.0).sum()/(survey_data.Income.dropna()).count())*100))+str('%'))\n",
    "\n",
    "\n",
    "fig, ax = plt.subplots(2,2, figsize=(15,8))\n",
    "ax[0,0].hist(survey_data.Gender)\n",
    "ax[0,0].set_title(Gender_title)\n",
    "ax[0,1].hist(survey_data.Marital_Status)\n",
    "ax[0,1].set_title(status_title)\n",
    "ax[1,0].hist(survey_data.Age)\n",
    "ax[1,0].set_title(age_title)\n",
    "ax[1,1].hist(survey_data.Income)\n",
    "ax[1,1].set_title(Income_title)\n",
    "plt.show()\n",
    "\n",
    "\n"
   ]
  },
  {
   "cell_type": "markdown",
   "id": "b1b96783",
   "metadata": {},
   "source": [
    "## 65% are Females\n",
    "## 70% are Singles\n",
    "## Max patrons are for 13-30 years of Age \n",
    "## 45% patrons have income less than 50,000"
   ]
  },
  {
   "cell_type": "code",
   "execution_count": null,
   "id": "d7615b06",
   "metadata": {},
   "outputs": [],
   "source": []
  },
  {
   "cell_type": "markdown",
   "id": "d04f7486",
   "metadata": {},
   "source": [
    "## In what media outlet(s) should the film series be advertised?\n",
    "## 1 = television; 2 =newspaper; 3 = radio; 4 = website; 5 = word of mouth"
   ]
  },
  {
   "cell_type": "code",
   "execution_count": 694,
   "id": "b1fef03e",
   "metadata": {},
   "outputs": [
    {
     "data": {
      "text/plain": [
       "<AxesSubplot:>"
      ]
     },
     "execution_count": 694,
     "metadata": {},
     "output_type": "execute_result"
    },
    {
     "data": {
      "image/png": "[encoded data removed]",
      "text/plain": [
       "<Figure size 432x288 with 1 Axes>"
      ]
     },
     "metadata": {
      "needs_background": "light"
     },
     "output_type": "display_data"
    }
   ],
   "source": [
    "survey_data.Hear_About.hist()\n"
   ]
  },
  {
   "cell_type": "markdown",
   "id": "9ff4c3c5",
   "metadata": {},
   "source": [
    "## Most of the customer Hear About from word of mouth"
   ]
  },
  {
   "cell_type": "code",
   "execution_count": null,
   "id": "0e477ea7",
   "metadata": {},
   "outputs": [],
   "source": []
  }
 ],
 "metadata": {
  "kernelspec": {
   "display_name": "Python 3 (ipykernel)",
   "language": "python",
   "name": "python3"
  },
  "language_info": {
   "codemirror_mode": {
    "name": "ipython",
    "version": 3
   },
   "file_extension": ".py",
   "mimetype": "text/x-python",
   "name": "python",
   "nbconvert_exporter": "python",
   "pygments_lexer": "ipython3",
   "version": "3.9.7"
  }
 },
 "nbformat": 4,
 "nbformat_minor": 5
}
